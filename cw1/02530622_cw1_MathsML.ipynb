{
  "cells": [
    {
      "cell_type": "markdown",
      "metadata": {
        "id": "PK8u_aGl2sVW"
      },
      "source": [
        "# Coursework 1 - Mathematics for Machine Learning"
      ]
    },
    {
      "cell_type": "markdown",
      "metadata": {
        "id": "yiWQAg9V2sVY"
      },
      "source": [
        "## CID: 02530622\n",
        "\n",
        "**Colab link:** https://colab.research.google.com/drive/1AXQ7uWpECBYdrP9Plpr8Rb8lLFie5sPw?usp=sharing\n",
        "\n",
        "***\n",
        "***"
      ]
    },
    {
      "cell_type": "markdown",
      "metadata": {
        "id": "2YIqCr232sVZ"
      },
      "source": [
        "## Part 1: Quickfire questions [3 points]"
      ]
    },
    {
      "cell_type": "markdown",
      "metadata": {
        "id": "JbbcTvYZ2sVZ"
      },
      "source": [
        "#### Question 1 (True risk / Empirical risk):\n",
        "\n",
        "Given samples and data distribution $(\\textbf{x}, \\textbf{y}) \\sim D$, a hypothesis class and function, $f \\in \\hat{\\mathcal{F}}$, where $f:X \\rightarrow Y$ where $X$ is input space and $Y$ is output space, and loss function $L$, the true risk is\n",
        "\n",
        "$$\n",
        "R(f) := \\mathbb{E}_D[L(f(\\textbf{x}), \\textbf{y})]\\,.\n",
        "$$\n",
        "The real risk measures the expected value of the loss function over the sample distribution, hence giving an estimate to how good our model $f$ is.\n",
        "\n",
        "Since $D$ is usually unkown, we resort to computing the empirical risk, using $N$ samples $(\\textbf{x}_i, \\textbf{y}_i)$ that we do posses,\n",
        "\n",
        "$$\n",
        "\\hat{R}(f) := \\frac{1}{N}\\sum_i^N{L(f(\\textbf{x}_i), \\textbf{y}_i)}\\, .\n",
        "$$\n",
        "So ideally we would like to find $\\hat{f}$ that minimizes $R$, but since we usually cannot do that, we approximate it using $f^*$ that minimizes $\\hat{R}$. The approximation is a good one if $N$ is large (by LLN), otherwise, the approximations isn't gurenteed to be good!\n"
      ]
    },
    {
      "cell_type": "markdown",
      "metadata": {
        "id": "6aEJdGev2sVZ"
      },
      "source": [
        "***\n",
        "#### Question 2 ('Large' or 'rich' hypothesis class):\n",
        "\n",
        "The benefit of a rich hypothesis class $\\mathcal{F}$ is that its elements would be able to represent more complex data patterns. As we have a variety of functions to \"choose\" from, we would be able to fit a variety of data patterns. The downside of it is that the generalization error is bounded by the magnitude of the hypothesis class (according to Theorm 4.8, $\\log{|\\mathcal{F}|}$ appears in the numerator of the upper bound under $\\sqrt{.}$). This means that a rich hypothesis class gives a bigger range to the generalization error (that we'd like to minimize).   "
      ]
    },
    {
      "cell_type": "markdown",
      "metadata": {
        "id": "3ZcTQdB92sVZ"
      },
      "source": [
        "***\n",
        "#### Question 3 (Dataset splitting):\n",
        "\n",
        "We cannot expect the unseen data error to be the same as the validation error. That is because we choose the model according to the validation data (e.g. tune hyperparameters to minimize validation data), so the model has some degree of correlation with this data. When we introduce unseen, novel data to the model, the model has no correlation at all to the new data, hence the error could be different.  "
      ]
    },
    {
      "cell_type": "markdown",
      "metadata": {
        "id": "KHjZ21qA2sVZ"
      },
      "source": [
        "***\n",
        "#### Question 4 (Occam’s razor):\n",
        "\n",
        "<font color='red'>Verify answer</font>\n",
        "\n",
        "Occam's razor states that if there are multiple plausible explanation to a certain result, the simpler one is the most likely. In statistical learning, an overfit model may be seen as a complex explanation compared to a (plausible)standard fit model, hence we should pick the latter. It applies to naturally occuring images as inputs to a model. An overfit model would be able to label an image from its training set, but if we alter the image slightly, it'd probably give an incorrect label. That is a problem because in the natural world, images with the same label can be varied (e.g. a picture of a panda and a slightly noisy picture of a panda). Hence, we should follow Occam's razor and choose the simple model for processing of natural images."
      ]
    },
    {
      "cell_type": "markdown",
      "metadata": {
        "id": "qyVskoM22sVa"
      },
      "source": [
        "***\n",
        "#### Question 5 (Generalisation error):\n",
        "\n",
        "<font color='red'>Verify gen error. Is there a catch here?</font>\n",
        "\n",
        "The generalization error for a given model $f$ is the difference between $R$ and $\\hat{R}$ as defined an answer 1. Since we usually cannot compute $R$ (absence of $D$), we approximate it as the difference between two empirical errors $\\hat{R}$, when one is taken on train data and the other on test data. In a good model, we want to minimize the generalization error. That would mean that our model would perform well on unseen test data, as we want."
      ]
    },
    {
      "cell_type": "markdown",
      "metadata": {
        "id": "Quzf--OL2sVa"
      },
      "source": [
        "***\n",
        "#### Question 6 (Rademacher complexity pt1):\n",
        "\n",
        "Rademacher complexity is a metric that measures the 'richness' of a family of functions $G$, using an average over the best fit of G to random noise. If $\\mathcal{F}$ has high Rademacher complexity, it can fit random noise rather accurately. In turn it means that $\\mathcal{F}$ contains functions that are able to be a good fit for a wide variery of different data patterns. When choosing a hypothesis class, if we know that our data patterns are complex and lack visible structure, we should choose a class with high Rademacher complexity.   "
      ]
    },
    {
      "cell_type": "markdown",
      "metadata": {
        "id": "wc414RJV2sVa"
      },
      "source": [
        "***\n",
        "#### Question 7 (Rademacher complexity pt2):\n",
        "\n",
        "<font color='red'>The question before ie and after seems different</font>\n",
        "The downside of $\\mathcal{F}$ dependency in (73) is that bigger $\\mathcal{F}$, with bigger Radamacher complexity, would give a bigger bound for the gen. error."
      ]
    },
    {
      "cell_type": "markdown",
      "metadata": {
        "id": "iY3o2MXl2sVa"
      },
      "source": [
        "***\n",
        "#### Question 8 (Regularisation term in the loss function):\n",
        "\n",
        "A regularisation term in the loss function can aid in avoiding unwanted behaviour in the trained model. It is a way to \"nudge\" the model toward certain desired properties.\n",
        "For example, when doing weight decay, we add the size of parameters $|\\boldsymbol{\\theta}|$ to the loss function to avoid large parameter values. Having small parameters (e.g. small weights) would result in the network being less \"sensitive\" to small input differences, which may be a desired result (robustness)."
      ]
    },
    {
      "cell_type": "markdown",
      "metadata": {
        "id": "72DlajIW2sVb"
      },
      "source": [
        "***\n",
        "#### Question 9 (Momentum gradient descent):\n",
        "\n",
        "In regular Gradient Descent (GD), we could have difficulty choosing the learning rate where the conditioning number $\\frac{\\lambda_{max}}{\\lambda_{min}}$ is too big. The learning rate, \"descent rate\", would vary widely in different directions: in one direction we might have a big slope and overshoot the optimum, and in another a small slope and we won't reach the optimum!\n",
        "\n",
        "Momentum GD solves this problem by accumulating previous gradient data in the step iteration, i.e. when choosing a new step, previous gradient values are accounted for. This solves the previous problem: if we have slow convergence in one direction the gradiant accumalation would make it faster, if we overshoot on a different direction, the gradients would change sign and the descent would slow down (in that direction).  "
      ]
    },
    {
      "cell_type": "markdown",
      "metadata": {
        "id": "FCwc9wkR2sVb"
      },
      "source": [
        "***\n",
        "#### Question 10 (Adam):\n",
        "\n",
        "ADAM is an optimization algorithm that is based on Momentum gradient descent. At it's core is the iteration rule over the model's parameters $\\theta$, where\n",
        "$\\theta_{t+1}$ is updated using normalized expressions of $m_t$ and $v_t$, where:\n",
        "\n",
        "* $m_t$ is accumelating gradiants called $g_t$, as in momentum GD\n",
        "* $v_t$ is accumelating second moment of the gradiants $g_t^2$\n",
        "\n",
        "We see that Adam makes use of the \"momentum\" part of MGD even more so, as it uses the first and second moments of the gradiants. In the previous question we had already seen the effects of the first moment. The second moment accounts for the \"width\" of the gradient, and is sometimes called uncentered variance.\n",
        "Adam uses normalized $v_$ and $m_t$ to counter an initialization bias that was detected.  \n"
      ]
    },
    {
      "cell_type": "markdown",
      "metadata": {
        "id": "fXIZAndw2sVb"
      },
      "source": [
        "***\n",
        "#### Question 11 (AdaGrad):\n",
        "<font color='red'>needs some work</font>\n",
        "\n",
        "AdaGrad is an optimazation algorithm that implements Momentum GD. It uses a diagonal metrix called $G$ in which each element represents the sum of the squared gradiants up to this time point, and divides the gradient by this term (specifically $\\frac{g_t}{\\sqrt{G_{ii}^t + \\epsilon}}$ where $ϵ$ is used to avoid zero division). This method has been found to improve the robustness of Stochastic GD.\n",
        "The drawback of the method is that the learning rate decreases with each iteration, as the denumertor grows (sum of positive elements)."
      ]
    },
    {
      "cell_type": "markdown",
      "metadata": {
        "id": "G_k_g_qr2sVb"
      },
      "source": [
        "***\n",
        "#### Question 12 (Decaying Learning Rate):\n",
        "\n",
        "Decaying learning rate can be useful when seeking the minimum in the loss landscape. In the lanscape (i.e. loss values over $n$-dimensional parameter space), we might have many dips and valleys of diffrent sizes, shapes, and slopes. Our trajectory is seeking the minimum loss value, i.e. descending as much as possible. A big learning rate would be helpful in descending big and wide valleys, as it is making \"big leaps\" in the landscape. But as the trajectory descends, the valleys diameter would grow smaller (we increase the resolution, or zooming in). So a big learning rate would make the trajectory jump over and miss the valley instead of going into it. Decaying the learning rate would make the trajectory take small steps towards the valley, and therefore entering it.\n",
        "\n",
        "We can picture it as throwing a marble to a hole in the ground. If the hole is big and far away, we should make a long throw. If the hole is small and near, we should take a short throw. If there is a small hole inside a big valley, we should first take a long throw into the valley, then a short one into the small hole."
      ]
    },
    {
      "cell_type": "markdown",
      "metadata": {
        "id": "41dGi5wo2sVb"
      },
      "source": [
        "***\n",
        "***\n",
        "\n",
        "## Part 2: Short-ish proofs [6 points]"
      ]
    },
    {
      "cell_type": "markdown",
      "metadata": {
        "id": "F1zlbVwj2sVb"
      },
      "source": [
        "\n",
        "### Question 2.1: Bounds on the risk [1 point]\n"
      ]
    },
    {
      "cell_type": "markdown",
      "metadata": {
        "id": "9FDSxbRA2sVb"
      },
      "source": [
        "#### (1)\n",
        "Let us reframe our problem in the notation of Hoeffding's Inequality (Theorm 4.2 notes) and then substitute in the inequality.\n",
        "\n",
        "For $S$ training sample and $N$ i.i.d variables $\\{\\textbf{x}\\}_{i=1}^N$ distributed according to $D$\n",
        " (these are r.v. and not samples), we assume deterministic targets $y_i = f(x)$ for some $x$. We also assume that our loss function is $L(f(\\textbf{x}), y)=\\mathbb{1}_{f(\\textbf{x})\\ne y}$ .\n",
        "\n",
        "\n",
        "Now, in the notation of Theorm 4.2, consider the random variables $X_i := L(f(\\textbf{x}_i), y_i)$. They are i.i.d because $\\textbf{x}_i$ are i.i.d and they are bounded between $[a_i,b_i]=[0,1] \\forall i \\le N$.\n",
        "\n",
        "Define $S_N := ∑^N_i{X_i}$ and note that $S_N = N\\hat{R}(f)$. Also note, using linearity of expectation and definition of $\\hat{R}(f)$:\n",
        "\n",
        "$$\n",
        "\\begin{equation}\n",
        "\\mathbb{E}[S_N] = \\mathbb{E} [N\\hat{R}(f)] = ∑_i^N \\mathbb{E}[L(f(\\textbf{x}_i), y_i)] = N \\mathbb{E}[L(f(\\textbf{x}_1), y_1)]=NR(f)\n",
        "\\end{equation}\n",
        "$$\n",
        "\n",
        "Now, as $X_i$ are bounded i.i.d, we can use Hoeffdings Inequality:\n",
        "\n",
        "Choose $\\tilde{ϵ}>0$. Then,\n",
        "\n",
        "$$\n",
        "\\begin{equation}\n",
        "\\mathbb{P}[|S_N - \\mathbb{E}[S_N]| \\ge \\tilde{ϵ}] \\le  \\exp{(-2\\tilde{ϵ}^2/∑_i^N(b_i - a_i)}).\n",
        "\\end{equation}\n",
        "$$\n",
        "\n",
        "Using our definitions and relations, this becomes\n",
        "$$\n",
        "\\begin{equation}\n",
        "\\mathbb{P}[|N\\hat{R}(f) - NR(f)| \\ge \\tilde{ϵ}] \\le  \\exp{(-2\\tilde{ϵ}^2/∑_i^N(1)})=\\exp{\\frac{-2\\tilde{ϵ}^2}{N}}.\n",
        "\\end{equation}\n",
        "$$\n",
        "\n",
        "And since $\\tilde{ϵ}$ is arbitrary, we can choose $\\tilde{ϵ}=Nϵ$ to find:\n",
        "\n",
        "$$\n",
        "\\begin{equation}\n",
        "\\mathbb{P}[|\\hat{R}(f) - R(f)| \\ge ϵ] \\le  \\exp{(-2ϵ^2/∑_i^N(1)})=\\exp{-2N ϵ^2}.\n",
        "\\end{equation}\n",
        "$$\n",
        "\n",
        "Which gives us Corollary 4.6. 🙂\n",
        "\n",
        "\n",
        "*Remark:* the probability and the expectation are taken with respect to our sample $S$ out of the distribution $D^N$.\n"
      ]
    },
    {
      "cell_type": "markdown",
      "metadata": {
        "id": "2YkuX2iWnxKm"
      },
      "source": [
        "#### (2)\n",
        "The interpretation of the result above shows us that the probability of the gen. error to be above or below $ϵ$ (meaning, the \"tails\" of the $pdf$) is decreasing monotoniclly with the sample size $N$. For a fixed $ϵ$, if we take the limit of the sample size $N \\rightarrow \\infty$, then the probability drops to zero, meaning that the tails of the gen. error are bigger than $ϵ$ almost surely.\n",
        "\n",
        "<font color='red'>Unsure if I need all of these details</font>\n",
        "\n",
        "\n",
        "Let us look at the inverse of the result above:\n",
        "\n",
        "$$\n",
        "\\begin{equation}\n",
        "\\mathbb{P}[|\\hat{R}(f) - R(f)| < ϵ] \\le 1 - \\exp{(-2N ϵ^2)}.\n",
        "\\end{equation}\n",
        "$$\n",
        "Now if we fix $N$ and take $ϵ → 0$ then we would find that the probability of the gen. error to be zero is zero!\n",
        "\n",
        "In general, this means that there is a \"fight\" between the sample size $N$ and our bound $ϵ$, only that the bound is quadratic. If we want the gen. error to drop below $ϵ$ (within a given fixed tolerance), then increasing $N$ quadratically would give us the desired bound!    \n",
        "\n"
      ]
    },
    {
      "cell_type": "markdown",
      "metadata": {
        "id": "mJfBU4g8nxKm"
      },
      "source": [
        "\n",
        "#### (3)\n",
        "The bound in Theorm 4.8 tells us that the gen. error is bounded by the log of the cardinality of the hypothesis class. This means that there is a tradeoff:\n",
        "Choosing a big hypothesis class will allow our model to fit complex data better, but it will also raise the bound, so our gen. error could get bigger.\n",
        "However, the log function ensures that the bound goes up slower then our hypothesis class expands, which is helpful."
      ]
    },
    {
      "cell_type": "markdown",
      "metadata": {
        "id": "Rp_Kr9T32sVb"
      },
      "source": [
        "***\n",
        "\n",
        "### Question 2.2: On semi-definiteness [1 point]"
      ]
    },
    {
      "cell_type": "markdown",
      "metadata": {
        "id": "X2VWR9iQ2sVb"
      },
      "source": [
        "First let us show that $g$ is convex.\n",
        "The derivative of $g$ is\n",
        "$$\n",
        "g'(t) = \\frac{df}{dt} = (\\nabla f) \\frac{d}{dt} (\\boldsymbol{x} + t \\boldsymbol{v}) = \\nabla f ^T \\cdot \\boldsymbol{v} \\; .\n",
        "$$\n",
        "\n",
        "Denote $t_1, t_2$ and $\\boldsymbol{y}_i = \\boldsymbol{x} + t_i \\boldsymbol{v}$, so $g(t_i) = f(\\boldsymbol{y}_i) \\; i=1,2$. Then, using convexity of $f$:\n",
        "\n",
        "$$\n",
        "g(t_1) = f(\\boldsymbol{y}_1) \\ge f(\\boldsymbol{y}_2) + \\nabla f(\\boldsymbol{y}_2)^T \\cdot(\\boldsymbol{y_1 - y_2}) \\\\\n",
        "= g(t_2) +  \\nabla f(\\boldsymbol{y}_2)^T \\cdot \\boldsymbol{v} (t_1 - t_2) \\\\\n",
        "= g(t_2) +  g'(t_2)  (t_1 - t_2) \\; ,\n",
        "$$\n",
        "\n",
        "hence $g$ is convex. This makes sense, as $g$ is just a translation of $f$ in a certain (constant) direction, so the geometry of $f$ remains.\n",
        "\n",
        "Since $g$ is convex, $g''(t) \\ge 0$, which is,\n",
        "\n",
        "$$\n",
        "g''(t) = \\frac{d}{dt} \\nabla f^T \\boldsymbol{v} = \\boldsymbol{v}^T \\cdot \\nabla^2 f \\cdot \\boldsymbol{v} \\ge 0 \\; .\n",
        "$$\n",
        "The last equation is independent of choice of $\\boldsymbol{v}$, hence the Hessian of $f$ is positive semidefinite."
      ]
    },
    {
      "cell_type": "markdown",
      "metadata": {
        "id": "K4p6Fcyy2sVb"
      },
      "source": [
        "***\n",
        "\n",
        "### Question 2.3: A quick recap of momentum [1 point]"
      ]
    },
    {
      "cell_type": "markdown",
      "metadata": {
        "id": "G1VFKHuZ2sVb"
      },
      "source": [
        "#### (1)\n",
        "\n",
        "Using this decomposition, we can identify and work with the \"preffered directions\" of the system, i.e. work in a coordinate system where the coordinates $w_1, ..., w_k$ are aligned with the directions of our objective function."
      ]
    },
    {
      "cell_type": "markdown",
      "metadata": {
        "id": "zwuPSbvP2sVc"
      },
      "source": [
        "***\n",
        "\n",
        "### Question 2.4: Convergence proof [3 points]"
      ]
    },
    {
      "cell_type": "markdown",
      "metadata": {
        "id": "SqNGw6ku2sVc"
      },
      "source": [
        "#### (1)\n",
        "Evolution of Newton's method:\n",
        "\n",
        "$$\n",
        "\\boldsymbol{x}_{k+1} = \\boldsymbol{x}_{k} - \\alpha \\nabla^2 f(\\boldsymbol{x}_{k})^{-1} \\nabla f(\\boldsymbol{x}_{k})\n",
        "$$\n",
        "where $\\alpha$ is the learning rate. We'll take $\\alpha=1$ in the following calculations."
      ]
    },
    {
      "cell_type": "markdown",
      "metadata": {
        "id": "Sk-nlbo9nxKn"
      },
      "source": [
        "#### (2)\n",
        "\n",
        "Let us compute the gradiant of $f$:\n",
        "\n",
        "$$\n",
        "\\nabla f(\\boldsymbol{x}) = \\frac{1}{2} \\nabla (\\boldsymbol{x}^T Q \\boldsymbol{x}) + \\nabla(b^T \\boldsymbol{x} + c) = \\frac{1}{2} (\\boldsymbol{x}^T Q)^T + \\frac{1}{2} Q \\boldsymbol{x} + b^T = Q \\boldsymbol{x} + b^T\n",
        "$$\n",
        "\n",
        "where we used the fact that $Q$ is positive definite, hence symmetric.\n",
        "Now the Hessian:\n",
        "\n",
        "$$\n",
        "\\nabla^2 f(\\boldsymbol{x})_{i,j} =  \\frac{1}{2} \\frac{\\partial^2}{\\partial {x_i} \\partial {x_j}} \\sum_{l, k} x_l x_k Q_{lk} = \\frac{1}{2} \\sum_{l, k} (\\delta _{il} \\delta _{jk} + \\delta _{jl} \\delta _{ik}) Q_{lk} = \\frac{1}{2} (Q_{ij} + Q_{ji}) = Q_{ij}\n",
        "$$\n",
        "\n",
        "where in the last step we used symmetry of $Q$ again.\n",
        "Combining this we find:\n",
        "\n",
        "$$\n",
        "\\boldsymbol{x}_{1} = \\boldsymbol{x}_{0} - Q^{-1} (Q \\boldsymbol{x_0} + b^T ) = Q^{-1}b^T\n",
        "$$\n",
        "which leads to\n",
        "\n",
        "$$\n",
        "\\nabla f(x_1) = 0 \\; .\n",
        "$$\n",
        "Note that the hessian is positive at all points ($Q$ is positive definite), therefore $x_1$ is in fact a minimum ($x_1 = x^{*}$). Hence, the method converged to the minimum in a single step."
      ]
    },
    {
      "cell_type": "markdown",
      "metadata": {
        "id": "NXE83B6inxKn"
      },
      "source": [
        "#### (3)\n",
        "The method is based on 2nd order Taylor expansion, hence one of the condition is that we can expand the function using 2nd order taylor ($f \\in C^3$). Generally, it means that in a local neighborhood of $x^*$, $f$ looks as if it is quadratic, so 2nd order Taylor can be used to find the minimum. When our function is quadratic as in (2), the Taylor expansion is no longer an approximation, it is exact. Hence the method converges in a single step.    "
      ]
    },
    {
      "cell_type": "markdown",
      "metadata": {
        "id": "zBXfY5E8nxKn"
      },
      "source": [
        "#### (4)\n",
        "\n",
        "We can view the Hessian as a matrix valued function in the sense of Lemma 0.2. Then according to the Lemma, since the Hessian is invertible at $\\boldsymbol{x}^*$, there exists $B(\\epsilon, \\boldsymbol{x}^*)$ such that every point in that environment has an invertible Hessian. Let $x_0$ be in that environment, then,\n",
        "\n",
        "$$\n",
        "\\Vert \\boldsymbol{x}_1 - \\boldsymbol{x}^* \\Vert = \\Vert (\\boldsymbol{x}_0 - \\boldsymbol{x}^*) - \\nabla^2 f(\\boldsymbol{x}_{0})^{-1} \\nabla f(\\boldsymbol{x}_{0}) \\Vert \\\\\n",
        "= \\Vert \\nabla^2 f(\\boldsymbol{x}_{0})^{-1} \\left[ \\nabla^2 f(\\boldsymbol{x}_{0}) (\\boldsymbol{x}_0 - \\boldsymbol{x}^*) - \\nabla f(\\boldsymbol{x}_{0}) \\right] \\Vert \\\\\n",
        "\\le \\Vert \\nabla^2 f(\\boldsymbol{x}_{0})^{-1} \\Vert \\Vert \\nabla^2 f(\\boldsymbol{x}_{0}) (\\boldsymbol{x}_0 - \\boldsymbol{x}^*) - \\nabla f(\\boldsymbol{x}_{0}) \\Vert\n",
        "$$\n",
        "where in the last inequality we used Lemma 0.1 and matrix norm."
      ]
    },
    {
      "cell_type": "markdown",
      "metadata": {
        "id": "Ran6-o-lnxKn"
      },
      "source": [
        "#### (5)\n",
        "\n",
        "We will try to bound the expression from (4) (using the Ed hint). First note that, according to Lemma 0.2 as stated before, for $\\boldsymbol{x_0} \\in B(\\epsilon, \\boldsymbol{x^*})$ the Hessian is invertible (and bounded). We can define\n",
        "\n",
        "$$\n",
        "c_1 := \\Vert \\nabla^2 f(\\boldsymbol{x}_{0})^{-1} \\Vert \\; .\n",
        "$$\n",
        "\n",
        "Next, we approximate $\\nabla f$ by Taylor at $x_0$,\n",
        "\n",
        "$$\n",
        "\\nabla f(\\boldsymbol{x}) = \\nabla f(\\boldsymbol{x_0}) + \\nabla^2 f(\\boldsymbol{x - x_0}) + \\mathcal{O} \\left(  (\\boldsymbol{x} - \\boldsymbol{x_0}) ^2 \\right)\n",
        "$$\n",
        "\n",
        "Then, if we isolate the $\\mathcal{O}$ term, and take the norm, we find\n",
        "\n",
        "$$\n",
        "\\Vert \\nabla f(\\boldsymbol{x}) - \\nabla f(\\boldsymbol{x_0}) - \\nabla^2 f(\\boldsymbol{x - x_0}) \\Vert ^2 \\le c_2   \\Vert \\boldsymbol{x} - \\boldsymbol{x_0} \\Vert ^2\n",
        "$$\n",
        "\n",
        "where $c_2>0$ is a constant. We can think of this as the \"error\" of our taylor approximation. Note that this is a bound on the RHS differene in (4). Taking $\\boldsymbol{x} = \\boldsymbol{x}^*$, using $c_1$, and the inequality from (4) results in\n",
        "\n",
        "$$\n",
        "\\Vert \\boldsymbol{x}^* - \\boldsymbol{x}_1 \\Vert \\le c_1 \\Vert - \\nabla f(\\boldsymbol{x_0}) - \\nabla^2 f(\\boldsymbol{x^* - x_0}) \\Vert ^2 \\le c_1c_2   \\Vert \\boldsymbol{x^*} - \\boldsymbol{x_0} \\Vert ^2 \\; ,\n",
        "$$\n",
        "where we used the fact that $\\nabla f(\\boldsymbol{x}^*) = 0$.\n"
      ]
    },
    {
      "cell_type": "markdown",
      "metadata": {
        "id": "Vf3NEapnnxKo"
      },
      "source": [
        "#### (6)\n",
        "We will use the previous result. Again $\\boldsymbol{x_0} \\in B(\\epsilon, \\boldsymbol{x^*})$. The given relation can be written as\n",
        "\n",
        "$$\n",
        "c_1c_2 \\Vert \\boldsymbol{x}^* - \\boldsymbol{x}_0 \\Vert ^2 \\le \\alpha \\Vert \\boldsymbol{x^*} - \\boldsymbol{x_0} \\Vert \\; .\n",
        "$$\n",
        "Then, using (5) and $\\alpha < 1$ we find\n",
        "\n",
        "$$\n",
        "\\Vert \\boldsymbol{x}^* - \\boldsymbol{x}_1 \\Vert \\le c_1c_2 \\Vert \\boldsymbol{x^*} - \\boldsymbol{x_0} \\Vert ^2 \\le \\alpha \\Vert \\boldsymbol{x^*} - \\boldsymbol{x_0} \\Vert \\le \\Vert \\boldsymbol{x^*} - \\boldsymbol{x_0} \\Vert < \\epsilon \\; .\n",
        "$$\n",
        "\n",
        "Instead of $\\epsilon$, we can plug the given relation and get\n",
        "$$\n",
        "\\Vert \\boldsymbol{x}^* - \\boldsymbol{x}_1 \\Vert \\le \\Vert \\boldsymbol{x^*} - \\boldsymbol{x_0} \\Vert \\le \\frac{\\alpha}{c_1c_2}  \\; .\n",
        "$$"
      ]
    },
    {
      "cell_type": "markdown",
      "metadata": {
        "id": "HmisTWbanxKo"
      },
      "source": [
        "#### (7)\n",
        "Given $\\boldsymbol{x_k} \\in B(\\epsilon, \\boldsymbol{x^*})$ and $\\Vert \\boldsymbol{x^*} - \\boldsymbol{x}_k \\Vert \\le \\frac{\\alpha}{c_1c_2}$, we can repeat the above to find\n",
        "\n",
        "$$\n",
        "\\Vert \\boldsymbol{x}^* - \\boldsymbol{x}_{k+1} \\Vert \\le c_1c_2 \\Vert \\boldsymbol{x^*} - \\boldsymbol{x_k} \\Vert ^2 \\le \\alpha \\Vert \\boldsymbol{x^*} - \\boldsymbol{x}_k \\Vert \\; .\n",
        "$$"
      ]
    },
    {
      "cell_type": "markdown",
      "metadata": {
        "id": "VQzTaaXqnxKo"
      },
      "source": [
        "#### (8)\n",
        "Applying (7) in iteration results in\n",
        "\n",
        "$$\n",
        "\\Vert \\boldsymbol{x}^* - \\boldsymbol{x}_{k+1} \\Vert \\le \\alpha \\Vert \\boldsymbol{x^*} - \\boldsymbol{x}_k \\Vert \\le ... \\le \\alpha^k \\Vert \\boldsymbol{x^*} - \\boldsymbol{x}_0 \\Vert < \\epsilon \\; ,\n",
        "$$\n",
        "\n",
        "hence  $\\lim_{k\\to\\infty} \\Vert \\boldsymbol{x}^* - \\boldsymbol{x}_{k+1} \\Vert$ = 0.\n",
        "Note that this is subject to the constraints $0< \\alpha < 1,\\Vert \\boldsymbol{x^*} - \\boldsymbol{x}_k \\Vert \\le \\frac{\\alpha}{c_1c_2}$.\n",
        "\n",
        "The quadratic rate can be seen from applying (5):\n",
        "$$\n",
        "\\Vert \\boldsymbol{x}^* - \\boldsymbol{x}_{k+1} \\Vert \\le c_1c_2   \\Vert \\boldsymbol{x^*} - \\boldsymbol{x}_{k} \\Vert ^2 \\; .\n",
        "$$\n",
        "\n"
      ]
    },
    {
      "cell_type": "markdown",
      "metadata": {
        "id": "jV-W82HD2sVc"
      },
      "source": [
        "***\n",
        "***\n",
        "\n",
        "## Part 3: A deeper dive into neural network implementations [3 points]"
      ]
    },
    {
      "cell_type": "code",
      "execution_count": null,
      "metadata": {
        "id": "qT6HJlNL2sVc"
      },
      "outputs": [],
      "source": [
        "# Import libraries\n",
        "import numpy as np\n",
        "import torch\n",
        "import torch.nn as nn\n",
        "import torchvision\n",
        "\n",
        "from torch.utils.data import DataLoader, Dataset\n",
        "import torchvision.transforms as transforms\n",
        "import matplotlib.pyplot as plt\n",
        "import torch.optim as optim\n"
      ]
    },
    {
      "cell_type": "code",
      "execution_count": null,
      "metadata": {
        "id": "KdaTXHrM3iIg"
      },
      "outputs": [],
      "source": [
        "device = torch.device(\"cuda:0\" if torch.cuda.is_available() else \"cpu\")"
      ]
    },
    {
      "cell_type": "code",
      "execution_count": null,
      "metadata": {
        "colab": {
          "base_uri": "https://localhost:8080/"
        },
        "id": "uogO3SpP2sVc",
        "outputId": "3240b424-09e4-4989-f67e-75040831a3fd"
      },
      "outputs": [
        {
          "name": "stdout",
          "output_type": "stream",
          "text": [
            "Downloading http://yann.lecun.com/exdb/mnist/train-images-idx3-ubyte.gz\n",
            "Downloading http://yann.lecun.com/exdb/mnist/train-images-idx3-ubyte.gz to ./data/MNIST/raw/train-images-idx3-ubyte.gz\n"
          ]
        },
        {
          "name": "stderr",
          "output_type": "stream",
          "text": [
            "100%|██████████| 9912422/9912422 [00:00<00:00, 88032843.67it/s]\n"
          ]
        },
        {
          "name": "stdout",
          "output_type": "stream",
          "text": [
            "Extracting ./data/MNIST/raw/train-images-idx3-ubyte.gz to ./data/MNIST/raw\n",
            "\n",
            "Downloading http://yann.lecun.com/exdb/mnist/train-labels-idx1-ubyte.gz\n",
            "Downloading http://yann.lecun.com/exdb/mnist/train-labels-idx1-ubyte.gz to ./data/MNIST/raw/train-labels-idx1-ubyte.gz\n"
          ]
        },
        {
          "name": "stderr",
          "output_type": "stream",
          "text": [
            "100%|██████████| 28881/28881 [00:00<00:00, 31028610.10it/s]\n"
          ]
        },
        {
          "name": "stdout",
          "output_type": "stream",
          "text": [
            "Extracting ./data/MNIST/raw/train-labels-idx1-ubyte.gz to ./data/MNIST/raw\n",
            "\n",
            "Downloading http://yann.lecun.com/exdb/mnist/t10k-images-idx3-ubyte.gz\n",
            "Downloading http://yann.lecun.com/exdb/mnist/t10k-images-idx3-ubyte.gz to ./data/MNIST/raw/t10k-images-idx3-ubyte.gz\n"
          ]
        },
        {
          "name": "stderr",
          "output_type": "stream",
          "text": [
            "100%|██████████| 1648877/1648877 [00:00<00:00, 33427543.82it/s]\n"
          ]
        },
        {
          "name": "stdout",
          "output_type": "stream",
          "text": [
            "Extracting ./data/MNIST/raw/t10k-images-idx3-ubyte.gz to ./data/MNIST/raw\n",
            "\n",
            "Downloading http://yann.lecun.com/exdb/mnist/t10k-labels-idx1-ubyte.gz\n",
            "Downloading http://yann.lecun.com/exdb/mnist/t10k-labels-idx1-ubyte.gz to ./data/MNIST/raw/t10k-labels-idx1-ubyte.gz\n"
          ]
        },
        {
          "name": "stderr",
          "output_type": "stream",
          "text": [
            "100%|██████████| 4542/4542 [00:00<00:00, 3378352.33it/s]\n"
          ]
        },
        {
          "name": "stdout",
          "output_type": "stream",
          "text": [
            "Extracting ./data/MNIST/raw/t10k-labels-idx1-ubyte.gz to ./data/MNIST/raw\n",
            "\n",
            "Downloading https://www.cs.toronto.edu/~kriz/cifar-10-python.tar.gz to ./data/cifar-10-python.tar.gz\n"
          ]
        },
        {
          "name": "stderr",
          "output_type": "stream",
          "text": [
            "100%|██████████| 170498071/170498071 [00:01<00:00, 97887726.16it/s] \n"
          ]
        },
        {
          "name": "stdout",
          "output_type": "stream",
          "text": [
            "Extracting ./data/cifar-10-python.tar.gz to ./data\n",
            "Files already downloaded and verified\n"
          ]
        }
      ],
      "source": [
        "# Download datasets\n",
        "train_set_mnist = torchvision.datasets.MNIST(root=\"./data\", download=True,\n",
        "                                         train=True, transform=transforms.Compose([transforms.ToTensor()]));\n",
        "\n",
        "test_set_mnist = torchvision.datasets.MNIST(root=\"./data\",download=True,\n",
        "                                        train=False,transform=transforms.Compose([transforms.ToTensor()]),);\n",
        "\n",
        "train_set_cifar = torchvision.datasets.CIFAR10(root=\"./data\", download=True,\n",
        "                                         train=True, transform=transforms.Compose([transforms.ToTensor()]));\n",
        "\n",
        "test_set_cifar = torchvision.datasets.CIFAR10(root=\"./data\",download=True,\n",
        "                                        train=False,transform=transforms.Compose([transforms.ToTensor()]),);\n",
        "\n",
        "# Normalizing data:\n",
        "train_set_mnist.data = nn.functional.normalize(train_set_mnist.data.to(float), p=1)\n",
        "test_set_mnist.data = nn.functional.normalize(test_set_mnist.data.to(float), p=1)"
      ]
    },
    {
      "cell_type": "markdown",
      "metadata": {
        "id": "ufVhg5gywAbx"
      },
      "source": [
        "***\n",
        "#### Data preprocess"
      ]
    },
    {
      "cell_type": "code",
      "execution_count": null,
      "metadata": {
        "id": "Kt1VVk_dwAbx"
      },
      "outputs": [],
      "source": [
        "class ImageDataset(Dataset):\n",
        "    \"\"\"\n",
        "        A PyTorch Dataset class for loading and normalizing MNIST or CIFAR datasets.\n",
        "        This class preprocesses the data in the following way:\n",
        "        * Choosing the correct trainset or testset.\n",
        "\n",
        "        * Converting the targets from integers to arrays with length nclass\n",
        "          s.t. the all of the components are zero except the target componenet which is one.\n",
        "          e.g. for raw_target=4, target=[0, 0, 0, 0, 1, 0, 0, 0, 0, 0].\n",
        "\n",
        "        * Casting the data and targets to torch.float32 (prevents future problems)\n",
        "\n",
        "        * If normalize=True, normalizes the dataset by the p1 norm.\n",
        "\n",
        "        Args:\n",
        "            dataset_type (str): Type of dataset, either \"mnist\" or \"cifar\".\n",
        "            train (bool): If True, load the training set; otherwise, load the test set.\n",
        "            normalize (bool): If True, normalize the data.\n",
        "            nclasses (int): Number of classes in the dataset.\n",
        "    \"\"\"\n",
        "\n",
        "    def __init__(self, dataset_type, train: bool, normalize: bool, nclasses=10):\n",
        "        match (dataset_type, train):\n",
        "            case (\"mnist\", True):\n",
        "                self.data =  train_set_mnist.data\n",
        "                raw_targets = train_set_mnist.targets\n",
        "\n",
        "            case (\"mnist\", False):\n",
        "                self.data =  test_set_mnist.data\n",
        "                raw_targets = test_set_mnist.targets\n",
        "\n",
        "            case (\"cifar\", True):\n",
        "                self.data =  train_set_cifar.data\n",
        "                raw_targets = train_set_cifar.targets\n",
        "\n",
        "            case (\"cifar\", False):\n",
        "                self.data =  test_set_cifar.data\n",
        "                raw_targets = test_set_cifar.targets\n",
        "\n",
        "            case _:\n",
        "                raise ValueError(\"Dataset must be 'mnist' or 'cifar'\")\n",
        "\n",
        "\n",
        "        self._create_data(raw_targets)\n",
        "        self._create_targets(raw_targets, nclasses)\n",
        "\n",
        "        if normalize:\n",
        "            self.data = nn.functional.normalize(self.data, p=1)\n",
        "\n",
        "        self.targets = self.targets.to(device=device)\n",
        "        self.data = self.data.to(device=device)\n",
        "\n",
        "    def _create_data(self, raw_targets):\n",
        "      \"\"\"\n",
        "        A method that manipulates the dataset. The purpose is to override in\n",
        "        child classes.\n",
        "      \"\"\"\n",
        "      self.data = torch.tensor(self.data, dtype=torch.float32)\n",
        "\n",
        "\n",
        "    def _create_targets(self, raw_targets, nclasses):\n",
        "      \"\"\"\n",
        "        A method that gets the raw_targets (labels) and manipulates them to new\n",
        "        targets. The purpose is to override in child classes.\n",
        "      \"\"\"\n",
        "      self.targets = torch.zeros(len(raw_targets), nclasses, dtype=torch.float32)\n",
        "      for i, t in enumerate(raw_targets):\n",
        "          self.targets[i, int(t)] = 1.   # Changing the targets into rows with 0 everywhere except the target\n",
        "\n",
        "\n",
        "    def __len__(self):\n",
        "        return self.data.shape[0]\n",
        "\n",
        "    def __getitem__(self, index):\n",
        "        return self.data[index], self.targets[index]\n",
        "\n",
        "def test_dataset():\n",
        "    \"\"\"\n",
        "      Test the ImageDataset class by creating an instance and printing a sample.\n",
        "    \"\"\"\n",
        "    traindata = ImageDataset(\"cifar\", False, True)\n",
        "    print(traindata[10])\n",
        "\n",
        "# Unvomment for test:\n",
        "# test_dataset()"
      ]
    },
    {
      "cell_type": "markdown",
      "metadata": {
        "id": "NtK6tqwqwAbz"
      },
      "source": [
        "***\n",
        "\n",
        "### Part 3.1: Implementations [1 point]\n",
        "\n",
        "#### Task 1"
      ]
    },
    {
      "cell_type": "code",
      "execution_count": null,
      "metadata": {
        "id": "QEsK7Qzo2sVd"
      },
      "outputs": [],
      "source": [
        "# Set seed\n",
        "SEED = int('02530622')\n",
        "np.random.seed(SEED)\n",
        "torch.manual_seed(SEED);"
      ]
    },
    {
      "cell_type": "code",
      "execution_count": null,
      "metadata": {
        "id": "1GpBUZ0S2sVd"
      },
      "outputs": [],
      "source": [
        "class Net(nn.Module):\n",
        "    \"\"\"\n",
        "      A simple feedforward neural network model.\n",
        "\n",
        "      Args:\n",
        "          dim (tuple): Input dimensions (e.g., (28, 28) for MNIST).\n",
        "          nclass (int): Number of classes in the output.\n",
        "          width (int): Width of the hidden layers.\n",
        "          depth (int): Number of hidden layers.\n",
        "    \"\"\"\n",
        "\n",
        "    def __init__(self, dim, nclass, width, depth):\n",
        "      super().__init__()\n",
        "      self.dim = dim\n",
        "      self.nclass = nclass\n",
        "      self.width = width\n",
        "      self.depth = depth\n",
        "      self.input_length = np.prod(dim)\n",
        "\n",
        "      self.flatten = nn.Flatten()\n",
        "      self.linear_in = nn.Linear(self.input_length, width, device=device)\n",
        "      self.linear_hidden = nn.Linear(width, width, device=device)\n",
        "      self.relu = nn.ReLU()\n",
        "      self.linear_out = nn.Linear(width, nclass, device=device)\n",
        "\n",
        "    def forward(self, input):\n",
        "      \"\"\"\n",
        "        Forward pass of the neural network.\n",
        "\n",
        "        Args:\n",
        "            input (torch.Tensor): Input tensor. Changing the name to \"x\" for convenience.\n",
        "\n",
        "        Returns:\n",
        "            torch.Tensor: the output of the network for given input.\n",
        "      \"\"\"\n",
        "\n",
        "      x = input   # Changing to a more convenience name\n",
        "      flat_x = self.flatten(x)\n",
        "      lifted_x = self.linear_in(flat_x)\n",
        "\n",
        "      processed_x = lifted_x\n",
        "      for _ in range(self.depth):\n",
        "        processed_x = self.relu(self.linear_hidden(processed_x))\n",
        "\n",
        "      return self.linear_out(processed_x)\n",
        "\n",
        "def test_net(net=None):\n",
        "  \"\"\"\n",
        "    Test the Net class by creating an instance and making a forward pass with a sample.\n",
        "\n",
        "    Args:\n",
        "        net (Net, optional): A pre-trained Net instance. If None, create a new instance.\n",
        "  \"\"\"\n",
        "\n",
        "  mnist_net = Net((28, 28), 10, 16, 2) if net is None else net\n",
        "  sample_index = np.random.randint(10000)\n",
        "\n",
        "  x = train_set_mnist.data[sample_index, :, :]\n",
        "  x = torch.unsqueeze(x, 0)\n",
        "  print(mnist_net(x), train_set_mnist.targets[sample_index])\n",
        "\n",
        "\n",
        "# test_net()"
      ]
    },
    {
      "cell_type": "markdown",
      "metadata": {
        "id": "7YM42iN5wAb0"
      },
      "source": [
        "#### Tasks 2-5\n",
        "All of these tasks are implemented in the NeuralNetworkTrainer class for convenience."
      ]
    },
    {
      "cell_type": "code",
      "execution_count": null,
      "metadata": {
        "id": "0h4H6KUOCu2-"
      },
      "outputs": [],
      "source": [
        "class NeuralNetworkTrainer():\n",
        "  def __init__(\n",
        "      self,\n",
        "      dataset_type,\n",
        "      width,\n",
        "      depth,\n",
        "      criterion, # Notice we assume that reduction=\"mean\"\n",
        "      optimizer,\n",
        "      batch_size=64,\n",
        "      lr=0.001,\n",
        "      max_epoch=1,\n",
        "      normalize=True\n",
        "      ):\n",
        "    \"\"\"\n",
        "      A high-level class for creating, training, and evaluating neural networks on MNIST or CIFAR datasets.\n",
        "\n",
        "      Args:\n",
        "          dataset_type (str): Type of dataset, either \"mnist\" or \"cifar\". dim is set accordingly.\n",
        "          width (int): Width of the hidden layers in the neural network. Hyperparamater!\n",
        "          depth (int): Number of hidden layers in the neural network. Hyperparamater!\n",
        "          criterion (torch loss function): Loss function for training. Assume the loss uses reduction=\"mean\" !\n",
        "          optimizer (torch.optim.Optimizer): Optimization algorithm for training.\n",
        "          batch_size (int, optional): Batch size for training and testing. Default is 64. Hyperparamater!\n",
        "          lr (float, optional): Learning rate for the optimizer. Default is 0.001. Hyperparamater!\n",
        "          max_epoch (int, optional): Maximum number of training epochs. Default is 1. Hyperparamater!\n",
        "          normalize (bool, optional): If True, normalize the data. Default is True.\n",
        "    \"\"\"\n",
        "\n",
        "    match dataset_type:\n",
        "      case \"mnist\":\n",
        "        dim = (28, 28)\n",
        "        nclass = 10\n",
        "\n",
        "      case \"cifar\":\n",
        "        dim = (32, 32, 3)\n",
        "        nclass = 10\n",
        "\n",
        "      case _:\n",
        "        raise ValueError(\"Dataset must be 'mnist' or 'cifar'\")\n",
        "\n",
        "    self.trainset = ImageDataset(dataset_type, train=True, normalize=normalize)\n",
        "    self.testset = ImageDataset(dataset_type, train=False, normalize=normalize)\n",
        "    self.batch_size = batch_size\n",
        "    self.trainloader, self.testloader = self.loading_data()\n",
        "\n",
        "    self.net = Net(dim, nclass, width, depth)\n",
        "\n",
        "    self.lr = lr\n",
        "    self.max_epoch = max_epoch\n",
        "    self.optimizer = optimizer(self.net.parameters(), lr=self.lr)\n",
        "    self.criterion = criterion\n",
        "\n",
        "\n",
        "  def loading_data(self): # Notice that all of the required arguments are now attributes!\n",
        "    \"\"\"\n",
        "      Create DataLoader instances for the training and testing datasets.\n",
        "\n",
        "      Returns:\n",
        "          tuple: Tuple containing DataLoader instances for training and testing.\n",
        "    \"\"\"\n",
        "\n",
        "    trainloader = DataLoader(self.trainset, self.batch_size, shuffle=True)\n",
        "    testloader = DataLoader(self.testset, self.batch_size, shuffle=False)\n",
        "\n",
        "    return trainloader, testloader\n",
        "\n",
        "\n",
        "  def train_epoch(self):  # Notice that all of the required arguments are now attributes!\n",
        "    \"\"\"\n",
        "      Perform one training epoch.\n",
        "\n",
        "      Returns:\n",
        "          torch.Tensor: Training loss for the epoch based on given loss function.\n",
        "    \"\"\"\n",
        "\n",
        "    self.net.train()\n",
        "\n",
        "    for X, y in self.trainloader:\n",
        "      y_hat = self.net(X)\n",
        "      local_loss = self.criterion(y_hat, y)\n",
        "\n",
        "      local_loss.backward()\n",
        "      self.optimizer.step()\n",
        "      self.optimizer.zero_grad()\n",
        "\n",
        "    return self.criterion(\n",
        "      self.net(self.trainloader.dataset.data),\n",
        "      self.trainloader.dataset.targets\n",
        "      )\n",
        "\n",
        "\n",
        "  def test_epoch(self):\n",
        "    \"\"\"\n",
        "      Perform one testing epoch.\n",
        "\n",
        "      The error is computed as follows:\n",
        "      torch.max(..., 1)[1] is doing argmax over each row and returns a list if ints, s.t.\n",
        "      each int corresponds to the index that has maximal value in this row.\n",
        "      argmax on a prediction returns the most likely class, argmax on the targets give the target.\n",
        "      So, the number of zeros in the expression argmax(predict) - argmax(target) will give back the\n",
        "      number of succsesful predictions, and the number of nonzero elements will give the errors!\n",
        "      Example (batch=2, nclass=3):\n",
        "\n",
        "      predictions =     [[0.6, 0.4, 0.,],\n",
        "                        [0.7, 0.2, 0.1,]]\n",
        "\n",
        "      targets =     [[1, 0., 0.,],\n",
        "                    [0., 1, 0.,]]\n",
        "\n",
        "      argmax(predictions) - argmax(targets) = [0 - 0, 0 - 1] = [0, -1]\n",
        "      => number of errors = numbers of nonzero elements = 1\n",
        "\n",
        "\n",
        "\n",
        "      Returns:\n",
        "          tuple: Tuple containing testing loss and number of classification errors.\n",
        "    \"\"\"\n",
        "    self.net.eval()\n",
        "    y = self.testloader.dataset.data\n",
        "    targets = self.testloader.dataset.targets\n",
        "\n",
        "    y_hat = self.net(y)\n",
        "    mean_loss = self.criterion(y_hat, targets) # Asuuming reduction=\"mean\"\n",
        "\n",
        "    target_class = torch.max(targets, 1)[1]\n",
        "    predicted_class = torch.max(y_hat, 1)[1] # Argmax gives predicted_class\n",
        "\n",
        "    num_errors = len(torch.nonzero(predicted_class - target_class))\n",
        "\n",
        "\n",
        "    return mean_loss, num_errors\n",
        "\n",
        "\n",
        "  def train_me(self, logs=True):\n",
        "    \"\"\"\n",
        "      Train the neural network for  max_epoch and print training and testing statistics.\n",
        "    \"\"\"\n",
        "\n",
        "    samples_len = self.testset.data.shape[0]\n",
        "    for i in range(self.max_epoch):\n",
        "      epoch = i + 1\n",
        "      train_loss = self.train_epoch()\n",
        "      test_loss, test_err = self.test_epoch()\n",
        "\n",
        "      if logs:\n",
        "        print(f\"Epoch: {epoch} | Train Loss: {train_loss:.04} |\"\n",
        "              f\"Test Loss: {test_loss:.04} | Test Error: {test_err/samples_len:.04}\")\n",
        "\n",
        "    return np.array([float(train_loss), float(test_loss)])\n",
        "\n",
        "\n",
        "def test_trainednetwork():\n",
        "  \"\"\"\n",
        "    Test for simple runtime errors of the trained neural network on\n",
        "    the CIFAR dataset.\n",
        "  \"\"\"\n",
        "  cifar_net = NeuralNetworkTrainer(\n",
        "      dataset_type=\"cifar\",\n",
        "      width=16,\n",
        "      depth=2,\n",
        "      criterion=nn.CrossEntropyLoss(),\n",
        "      optimizer=optim.Adam,\n",
        "      max_epoch=10\n",
        "  )\n",
        "\n",
        "  cifar_net.train_me()\n",
        "\n",
        "# Uncomment for network test\n",
        "# test_trainednetwork()"
      ]
    },
    {
      "cell_type": "code",
      "execution_count": null,
      "metadata": {
        "id": "5przzawbnxKq"
      },
      "outputs": [],
      "source": [
        "def hyperparameter_scan(hyperparams, scan_param, param_range, logs=False):\n",
        "  \"\"\"\n",
        "    Perform a hyperparameter scan over a specified range.\n",
        "\n",
        "    Args:\n",
        "        hyperparams (dict): Dictionary of fixed hyperparameters for the neural network.\n",
        "        scan_param (str): Hyperparameter to scan.\n",
        "        param_range (list): Range of values to scan for the specified hyperparameter.\n",
        "\n",
        "    Returns:\n",
        "        dict: Dictionary containing errors for each value in the param_range.\n",
        "  \"\"\"\n",
        "\n",
        "  errors = {}\n",
        "  for e in param_range:\n",
        "\n",
        "      hyperparams[scan_param] = e\n",
        "      mnist_net = NeuralNetworkTrainer(**hyperparams)\n",
        "\n",
        "      errors[e] = mnist_net.train_me(logs=logs)\n",
        "\n",
        "  return errors\n",
        "\n",
        "\n",
        "def plot_errors(errors, xval, title, xlabel):\n",
        "  \"\"\"\n",
        "    Plot the training and testing errors.\n",
        "\n",
        "    Args:\n",
        "        errors (dict): Dictionary containing errors tuple for different values\n",
        "                       of a hyperparameter, (train_error, test_error)\n",
        "        xval (list): Values of the hyperparameter.\n",
        "        title (str): Title for the plot.\n",
        "        xlabel (str): Label for the x-axis.\n",
        "  \"\"\"\n",
        "\n",
        "  plt.title(title)\n",
        "  plt.xlabel(xlabel)\n",
        "  plt.ylabel(\"Loss\")\n",
        "\n",
        "  train_error = [errors[e][0] for e in xval]\n",
        "  test_error = [errors[e][1] for e in xval]\n",
        "  plt.plot(xval, train_error, label=\"train loss\")\n",
        "  plt.plot(xval, test_error, label=\"test loss\")\n",
        "\n",
        "  plt.legend()\n",
        "  plt.grid\n"
      ]
    },
    {
      "cell_type": "markdown",
      "metadata": {
        "id": "hHBQTtwc2sVd"
      },
      "source": [
        "***\n",
        "\n",
        "### Part 3.2: Numerical exploration [2 points]\n",
        "\n",
        "#### Task 6 - Deep Networks Analysis"
      ]
    },
    {
      "cell_type": "markdown",
      "metadata": {
        "id": "2qLZ09nUnxKr"
      },
      "source": [
        "#### Finding max epoch\n",
        "\n",
        "In order to find an epoch for convergence, we will fix the below hyperparameters and calculate the loss for each epoch. We use depth of 5 and width of 150 to capture both the depth and width cases.\n",
        "\n",
        "| Hyperparameter | Fixed Value |\n",
        "|---|---|\n",
        "| `width` | 150 |\n",
        "| `depth` | 5 |\n",
        "| `criterion` | nn.CrossEntropyLoss() |\n",
        "| `optimizer` | optim.Adam |\n",
        "| `batch_size` | 64 |\n",
        "| `lr` | 0.001 |\n"
      ]
    },
    {
      "cell_type": "code",
      "execution_count": null,
      "metadata": {
        "colab": {
          "base_uri": "https://localhost:8080/",
          "height": 507
        },
        "id": "Uxo1nGW9Heys",
        "outputId": "d0feaaa2-3cff-48fc-e45d-469b38d74850"
      },
      "outputs": [
        {
          "name": "stderr",
          "output_type": "stream",
          "text": [
            "<ipython-input-4-c04c0ef3e4a6>:58: UserWarning: To copy construct from a tensor, it is recommended to use sourceTensor.clone().detach() or sourceTensor.clone().detach().requires_grad_(True), rather than torch.tensor(sourceTensor).\n",
            "  self.data = torch.tensor(self.data, dtype=torch.float32)\n"
          ]
        },
        {
          "data": {
            "image/png": "[encoded data removed]",
            "text/plain": [
              "<Figure size 640x480 with 1 Axes>"
            ]
          },
          "metadata": {},
          "output_type": "display_data"
        }
      ],
      "source": [
        "hyperparams = {\n",
        "    \"dataset_type\": \"mnist\",\n",
        "    \"width\": 150,\n",
        "    \"depth\": 5,\n",
        "    \"criterion\": nn.CrossEntropyLoss(),\n",
        "    \"optimizer\": optim.Adam,\n",
        "    \"batch_size\": 64,\n",
        "    \"lr\": 0.001,\n",
        "    \"normalize\": True\n",
        "}\n",
        "\n",
        "def max_epoch_finder(hyperparams, num_epochs):\n",
        "\n",
        "  errors = {}\n",
        "  for e in num_epochs:\n",
        "\n",
        "      hyperparams[\"max_epoch\"] = e\n",
        "      mnist_net = NeuralNetworkTrainer(**hyperparams)\n",
        "\n",
        "      errors[e] = mnist_net.train_me(logs=False)\n",
        "\n",
        "  return errors\n",
        "\n",
        "#Uncomment for epoch optimisition:\n",
        "num_epochs = range(1, 36, 5)\n",
        "errors = max_epoch_finder(hyperparams, num_epochs)\n",
        "plot_errors(errors, num_epochs, \"MNIST Loss vs epochs\", \"epochs\")"
      ]
    },
    {
      "cell_type": "markdown",
      "metadata": {
        "id": "RaI5aWvN06EL"
      },
      "source": [
        "#### Task 6 - Deep Networks Analysis\n",
        "\n",
        "We can see in the above graph that setting `max_epoch=12` could provide good results without overfitting. So we'll use that. Also we decrease `lr` here, more on that in the discussion.\n",
        "\n",
        "We fix the below hyperparameters, and test different depths.\n",
        "\n",
        "| Hyperparameter | Fixed Value |\n",
        "|---|---|\n",
        "| `width` | 256 |\n",
        "| `criterion` | nn.CrossEntropyLoss() |\n",
        "| `optimizer` | optim.Adam |\n",
        "| `batch_size` | 64 |\n",
        "| `lr` | 0.0005 |\n",
        "| `max_epoch` | 12 |\n"
      ]
    },
    {
      "cell_type": "code",
      "execution_count": null,
      "metadata": {
        "colab": {
          "base_uri": "https://localhost:8080/",
          "height": 680
        },
        "id": "PzaGGVnT2sVn",
        "outputId": "51e44f78-80c2-4dc6-c815-b737f2b2b2a0"
      },
      "outputs": [
        {
          "name": "stderr",
          "output_type": "stream",
          "text": [
            "<ipython-input-4-c04c0ef3e4a6>:58: UserWarning: To copy construct from a tensor, it is recommended to use sourceTensor.clone().detach() or sourceTensor.clone().detach().requires_grad_(True), rather than torch.tensor(sourceTensor).\n",
            "  self.data = torch.tensor(self.data, dtype=torch.float32)\n"
          ]
        },
        {
          "name": "stdout",
          "output_type": "stream",
          "text": [
            "Depth: 1 | Train Loss: 0.05227 | Test Loss: 0.1299\n",
            "Depth: 2 | Train Loss: 0.03603 | Test Loss: 0.1329\n",
            "Depth: 3 | Train Loss: 0.03134 | Test Loss: 0.127\n",
            "Depth: 4 | Train Loss: 0.03888 | Test Loss: 0.1316\n",
            "Depth: 5 | Train Loss: 0.03483 | Test Loss: 0.1366\n",
            "Depth: 6 | Train Loss: 0.03675 | Test Loss: 0.1401\n",
            "Depth: 7 | Train Loss: 0.02863 | Test Loss: 0.1465\n",
            "Depth: 8 | Train Loss: 0.04822 | Test Loss: 0.1503\n",
            "Depth: 9 | Train Loss: 0.0444 | Test Loss: 0.1586\n",
            "Depth: 10 | Train Loss: 0.06662 | Test Loss: 0.1628\n"
          ]
        },
        {
          "data": {
            "image/png": "[encoded data removed]",
            "text/plain": [
              "<Figure size 640x480 with 1 Axes>"
            ]
          },
          "metadata": {},
          "output_type": "display_data"
        }
      ],
      "source": [
        "# Fixed Hyperparameters:\n",
        "hyperparams = {\n",
        "    \"dataset_type\": \"mnist\",\n",
        "    \"width\": 256,\n",
        "    \"criterion\": nn.CrossEntropyLoss(),\n",
        "    \"optimizer\": optim.Adam,\n",
        "    \"batch_size\": 64,\n",
        "    \"lr\": 0.0005,\n",
        "    \"max_epoch\": 12,\n",
        "    \"normalize\": True\n",
        "}\n",
        "\n",
        "# Uncomment for test depths analysis:\n",
        "depths = range(1, 11)\n",
        "errors = hyperparameter_scan(hyperparams, \"depth\", depths)\n",
        "\n",
        "for d, (train_loss, test_loss) in errors.items():\n",
        "  print(f\"Depth: {d} | Train Loss: {train_loss:.04} | Test Loss: {test_loss:.04}\")\n",
        "\n",
        "plot_errors(errors, depths, \"MNIST Loss vs Depth\", \"Depth\")"
      ]
    },
    {
      "cell_type": "markdown",
      "metadata": {
        "id": "CLLbFgLenxKt"
      },
      "source": [
        "##### Discussion - Depth\n",
        "\n",
        "| Depth | Train Loss | Test Loss |\n",
        "|---|---|---|\n",
        "| 1 | 0.05227  | 0.1299 |\n",
        "| 5 | 0.03483 | 0.1366 |\n",
        "| 10 | 0.06662 | 0.1628 |\n",
        "\n",
        "\n",
        "Upon multiple try and error I found that training the network with big depth is very hard. Seems like for `lr=0.001`, both the train and test loss did not decrease with depth at all. This is not likely due to overfitting because the training loss did not improve. Instead, I suspect that this is because the loss landscape becomes very complex for each additional hidden layer, hence finding the optimum is harder (as stated in the lecture).\n",
        "\n",
        "Hence, I lowered the learning rate to `lr=0.0005`. Then, we see that up to around `depth=7` we get lower train loss, which indicates that the optimum is found. After that, the train loss sharply increases, which probably means that the optimum is not found.\n",
        "\n",
        "We can also notice quite an obvious overfitting behaviour for the test loss. From `depth=3` and onwards, the test loss increases regardless of the train loss. Which means that the network is learning to imitate the train dataset instead of generalizing. Therefore, the optimal depth for these hyperparameters is probably `depth=3`."
      ]
    },
    {
      "cell_type": "markdown",
      "metadata": {
        "id": "lyaWXdWKnxKt"
      },
      "source": [
        "***\n",
        "#### Task 7 - Wide Networks Analysis\n",
        "\n",
        "##### Depth analysis\n",
        "\n",
        "Again fixing the below parameters and testing different `width`:\n",
        "\n",
        "| Hyperparameter | Fixed Value |\n",
        "|---|---|\n",
        "| `depth` | 1 |\n",
        "| `criterion` | nn.CrossEntropyLoss() |\n",
        "| `optimizer` | optim.Adam |\n",
        "| `batch_size` | 64 |\n",
        "| `lr` | 0.001 |\n",
        "| `max_epoch` | 12 |\n"
      ]
    },
    {
      "cell_type": "code",
      "execution_count": null,
      "metadata": {
        "colab": {
          "base_uri": "https://localhost:8080/",
          "height": 663
        },
        "id": "mjoZ_Xs-nxKt",
        "outputId": "384df2b0-80d3-4be2-f63c-c1f499e809ed"
      },
      "outputs": [
        {
          "name": "stderr",
          "output_type": "stream",
          "text": [
            "<ipython-input-5-c04c0ef3e4a6>:58: UserWarning: To copy construct from a tensor, it is recommended to use sourceTensor.clone().detach() or sourceTensor.clone().detach().requires_grad_(True), rather than torch.tensor(sourceTensor).\n",
            "  self.data = torch.tensor(self.data, dtype=torch.float32)\n"
          ]
        },
        {
          "name": "stdout",
          "output_type": "stream",
          "text": [
            "Width: 4 | Train Loss: 0.5669 | Test Loss: 0.5781\n",
            "Width: 8 | Train Loss: 0.3208 | Test Loss: 0.3399\n",
            "Width: 16 | Train Loss: 0.2116 | Test Loss: 0.2406\n",
            "Width: 32 | Train Loss: 0.1258 | Test Loss: 0.1778\n",
            "Width: 64 | Train Loss: 0.07332 | Test Loss: 0.1389\n",
            "Width: 128 | Train Loss: 0.04665 | Test Loss: 0.1348\n",
            "Width: 256 | Train Loss: 0.0319 | Test Loss: 0.1441\n",
            "Width: 512 | Train Loss: 0.02987 | Test Loss: 0.1569\n",
            "Width: 1024 | Train Loss: 0.03542 | Test Loss: 0.1705\n"
          ]
        },
        {
          "data": {
            "image/png": "[encoded data removed]",
            "text/plain": [
              "<Figure size 640x480 with 1 Axes>"
            ]
          },
          "metadata": {},
          "output_type": "display_data"
        }
      ],
      "source": [
        "# Fixed Hyperparameters:\n",
        "hyperparams = {\n",
        "    \"dataset_type\": \"mnist\",\n",
        "    \"depth\": 1,\n",
        "    \"criterion\": nn.CrossEntropyLoss(),\n",
        "    \"optimizer\": optim.Adam,\n",
        "    \"batch_size\": 64,\n",
        "    \"lr\": 0.001,\n",
        "    \"max_epoch\": 12,\n",
        "    \"normalize\": True\n",
        "}\n",
        "\n",
        "\n",
        "# Uncomment for width analysis:\n",
        "widths = [2 ** i for i in range(2, 11)]\n",
        "errors = hyperparameter_scan(hyperparams, \"width\", widths, logs=False)\n",
        "\n",
        "for w, (train_loss, test_loss) in errors.items():\n",
        "  print(f\"Width: {w} | Train Loss: {train_loss:.04} | Test Loss: {test_loss:.04}\")\n",
        "\n",
        "plot_errors(errors, widths, \"MNIST Loss vs Width\", \"Width\")"
      ]
    },
    {
      "cell_type": "markdown",
      "metadata": {
        "id": "UDBc0AK5nxKt"
      },
      "source": [
        "##### Discussion - Width\n",
        "\n",
        "| Width | Train Loss | Test Loss |\n",
        "|---|---|---|\n",
        "|4 | 0.5669 | 0.5781 |\n",
        "|8 | 0.3208 |  0.3399 |\n",
        "|16 |  0.2116 |  0.2406 |\n",
        "|32 |  0.1258 |  0.1778 |\n",
        "|64 |  0.07332 |  0.1389 |\n",
        "|128 | 0.04665 |  0.1348 |\n",
        "|256 | 0.0319 |  0.1441 |\n",
        "|512 | 0.02987 |  0.1569 |\n",
        "|1024 | 0.03542 |  0.1705 |\n",
        "\n",
        "\n",
        "\n",
        "We can see from the graph results as expected. When we increase the width, the network performs well on the train loss as there are more parameters to \"learn\" the data - the train loss decreases over the whole range. This also indicates that the optimum is always found.\n",
        "\n",
        "The test loss, however, decays at first, but then increases from `width=128` (similar to the epoch graph). This is likely due to overfitting - there are so many parameters so that the network learns to replicate the train data, thus it doesn't generalize well to the test data.\n",
        "\n",
        "Therefore, the optimal width in this case is probably `width=128`."
      ]
    },
    {
      "cell_type": "markdown",
      "metadata": {
        "id": "SMDhdlAQ2sVn"
      },
      "source": [
        "***\n",
        "***\n",
        "\n",
        "## Part 4: The link between Neural Networks and Gaussian Processes [8 points]"
      ]
    },
    {
      "cell_type": "markdown",
      "metadata": {
        "id": "EyCTq6XN2sVo"
      },
      "source": [
        "### Part 4.1: Proving the relationship between a Gaussian process and a neural network [4 points]"
      ]
    },
    {
      "cell_type": "markdown",
      "metadata": {
        "id": "Ul5rk0ff2sVo"
      },
      "source": [
        "#### Task 1: Proper weight scaling"
      ]
    },
    {
      "cell_type": "markdown",
      "metadata": {
        "id": "9NV1eU6d2sVo"
      },
      "source": [
        "The scaling makes sense because we want to employ the Central Limit Theorm on $f_i^{(2)}(x)$. CLT states that the sum of $N$ i.i.d r.v. $X_i, ... ,X_N $ with mean and variance $\\mu, \\sigma^2$ distributes (approx.) as $\\mathcal{N}(N \\mu, N \\sigma^2)$. In our case, the mean $\\mathbb{E}[f_i^{(2)}]=0$, and the variance depends on the variance of the wieghts $w_{ij}^{(2)}$ (more details below). Then, in order to keep the variance from diverging as $N_1 \\rightarrow \\infty$  while applying CLT, we have to normalize the variance of the wieghts by $N_1$."
      ]
    },
    {
      "cell_type": "markdown",
      "metadata": {
        "id": "mOdoN0OQ2sVo"
      },
      "source": [
        "***\n",
        "#### Task 2: Derive the GP relation for a single hidden layer"
      ]
    },
    {
      "cell_type": "markdown",
      "metadata": {
        "id": "WoIW9iH_2sVo"
      },
      "source": [
        "We will use similar notation to [Matthews et al., 2018]. Consider two inputs $x, x'$, and define the vector $\\boldsymbol{f}^{(2)}(x)$ with elements $f^{(2)}_i(x)\\, , i=1,...,N_2$. Then we define the vector $\\boldsymbol{F}^{(2)}$ with length $2N_2$ as the concatenation of $\\boldsymbol{f}^{(2)}(x), \\boldsymbol{f}^{(2)}(x')$:\n",
        "\n",
        "$$\n",
        "\\boldsymbol{F}^{(2)} = \\begin{pmatrix} \\boldsymbol{f}^{(2)}(x) \\\\ \\boldsymbol{f}^{(2)}(x') \\end{pmatrix} = \\begin{pmatrix} \\boldsymbol{b}^{(2)} \\\\ \\boldsymbol{b}^{(2)} \\end{pmatrix} + ∑_{j=1}^{N_1} \\begin{pmatrix} w^{(2)}_{:, j}g_j^{(1)}(x) \\\\ w^{(2)}_{:, j}g_j^{(1)}(x') \\end{pmatrix}\n",
        "$$\n",
        "\n",
        "where the sum over $w^{(2)}_{:, j}$ means that it applies for every neuron in the vector $1 \\le i \\le N_{1}$.\n",
        "\n",
        "Now, in order to apply multivariate CLT we want to show that the terms in the sum are i.i.d from each other. For each $l$, $w_{ij}^{(l)}$ are drawn from the same distribution, hence they are i.i.d. The post activations for layer 1 $g_j^{(1)}$, are functions of $w_{ij}^{(1)}, b_j^{(1)}$, hence they too are i.i.d. Therefore, the sum is over i.i.d vectors, and we can apply multivariate CLT.\n",
        "Also, the mean is zero and we normalized the variance, so the variance does not diverge with the limit (as explained above).\n",
        "\n",
        "To find the limit distribution after multivariate CLT we calculate we use linearity of expectetion and independence,\n",
        "$$\n",
        "\\mathbb{E}[f_i^{(2)}(x)]= ∑_i^{N_1}\\mathbb{E}[w_{i,j}^{(2)}g_j^{(1)}(x)] + \\mathbb{E}[b_i^{(2)}]= ∑_i^{N_1} 0 \\cdot \\mathbb{E}[g_j^{1}(x)] + 0 = 0\\, ,\n",
        "$$\n",
        "\n",
        "so $\\mu^1 = \\boldsymbol{0}$ .\n",
        "\n",
        "The covariance matrix denoted by $K^1$ would be given by:\n",
        "$$\n",
        "K^1_{i,j} (x, x') = \\mathbb{E} \\left[ (f_i^{(2)(x)} - \\mathbb{E}[f_i^{(2)}(x)]) ⋅ (f_j^{(2)(x')} - \\mathbb{E}[f_j^{(2)}(x')]) \\right] = \\mathbb{E} \\left[ (f_i^{(2)}(x)) ⋅ (f_j^{(2)}(x')) \\right] \\, .\n",
        "$$\n",
        "\n",
        "If $i \\ne j$ then independence gives us\n",
        "$$\n",
        "\\mathbb{E} \\left[ (f_i^{(2)}(x)) ⋅ (f_j^{(2)}(x')) \\right] = \\mathbb{E} \\left[ f_i^{(2)}(x) \\right] \\mathbb{E} \\left[ f_j^{(2)}(x') \\right] = 0 \\; .\n",
        "$$\n",
        "so we are left with the diagonal elements. Further calculations of this expression are done in the general $L$ hidden layers below.\n",
        "\n",
        "Finally, multivariate CLT gives:\n",
        "$$\n",
        "\\boldsymbol{F}^{(2)} \\xrightarrow{N_1 \\rightarrow ∞} \\mathcal{N}(\\boldsymbol{0}, K^1(x, x'))\\, ,\n",
        "$$\n",
        "\n",
        "which means that the limiting distribution is a $\\mathcal{GP}$ with respect to the inputs."
      ]
    },
    {
      "cell_type": "markdown",
      "metadata": {
        "id": "fbxrzInZ2sVo"
      },
      "source": [
        "***\n",
        "#### Task 3: Why in succession"
      ]
    },
    {
      "cell_type": "markdown",
      "metadata": {
        "id": "-oRi0kiP2sVo"
      },
      "source": [
        "The proof of the whole network is done by induction, and the inductive hypothesis is that layer $l-1$ is a $\\mathcal{GP}$ when $N_{l-1} \\to \\infty$. Therefore, the hidden layer widths are taken to infinite in succession, because when we show that level $l$ is a $\\mathcal{GP}$, we use the fact that level $l-1$ is a $\\mathcal{GP}$."
      ]
    },
    {
      "cell_type": "markdown",
      "metadata": {
        "id": "NBiy5sKA2sVo"
      },
      "source": [
        "***\n",
        "#### Task 4: Derive the GP relation for multiple hidden layers"
      ]
    },
    {
      "cell_type": "markdown",
      "metadata": {
        "id": "EaIEL1AK2sVo"
      },
      "source": [
        "The proof is similar to the 1 hidden layer case (induction base). Assume that $f_j^{l-1}$ is a $\\mathcal{GP}$ over the inputs, hence both $f_j^{l-1}$ and the post activations $g_j^{l-1}$ are i.i.d.\n",
        "\n",
        "The output to the $i$'th neuron on layer $l$ is\n",
        "\n",
        "$$\n",
        "f_i^{(l)} (x) = \\sum^{N_l}_{j=1} w^{(l)}_{ij} g^{(l-1)}_{j}(x) + b^{(l)}_{j} \\; .\n",
        "$$\n",
        "\n",
        "and we can construct\n",
        "\n",
        "$$\n",
        "\\boldsymbol{F}^{(l)} = \\begin{pmatrix} \\boldsymbol{f}^{(l)}(x) \\\\ \\boldsymbol{f}^{(l)}(x') \\end{pmatrix} = \\begin{pmatrix} \\boldsymbol{b}^{(l)} \\\\ \\boldsymbol{b}^{(l)} \\end{pmatrix} + ∑_{j=1}^{N_l} \\begin{pmatrix} w^{(l)}_{:, j}g_j^{(l-1)}(x) \\\\ w^{(l)}_{:, j}g_j^{(l-1)}(x') \\end{pmatrix} \\; .\n",
        "$$\n",
        "\n",
        "Again, the sum is over i.i.d. variables with mean zero and variance normalized by $N_l$, then we can apply CLT.\n",
        "\n",
        "*Note: to explicitly use the formal definition of CLT, we can represent $w^{(l)}_{i, j} = \\frac{1}{\\sqrt{N_l}} X_{ij}^{(l)}$ where $X_{ij}^{(l)} \\sim \\mathcal{N}(0, \\sigma_w^{(l)})$. Then the sum over $w$ becomes $S_{N_l} = \\frac{1}{\\sqrt{N_l}} \\sum_{j=1}^{N_l}X_{ij}^{(l)} \\to \\mathcal{N}(0, K^l), \\; N_l \\to \\infty$ where we used the fact the $\\mathbb{E}[X_{ij}^{(l)}]=0$.*\n",
        "\n",
        "The limit distribution of $\\boldsymbol{F}^{(l)}$:\n",
        "\n",
        "$$\n",
        "\\mu^{l-1} = \\mathbb{E}[f_i^{(l)}(x)]= ∑_i^{N_1}\\mathbb{E}[w_{i,j}^{(l)}g_j^{(l-1)}(x)] + \\mathbb{E}[b_i^{(l)}]= ∑_i^{N_1} 0 \\cdot \\mathbb{E}[g_j^{l-1}(x)] + 0 = 0\\, ,\n",
        "$$\n",
        "\n",
        "$$\n",
        "K^{l-1}_{i,j} (x, x') = \\mathbb{E} \\left[ (f_i^{(l)}(x) - \\mathbb{E}[f_i^{(l)}(x)]) ⋅ (f_j^{(l)(x')} - \\mathbb{E}[f_j^{(l)}(x')]) \\right] = \\mathbb{E} \\left[ (f_i^{(l)}(x)) ⋅ (f_j^{(l)}(x')) \\right] \\; ,\n",
        "$$\n",
        "\n",
        "if $i \\ne j$ then by the mentioned independence $K^{l-1}_{i,j} (x, x') = \\mathbb{E} [ f_i^{(l)}(x)] \\mathbb{E} [f_j^{(l)}(x')] = 0$. Otherwise,\n",
        "\n",
        "$$\n",
        "\\mathbb{E} \\left[ (f_i^{(l)}(x)) ⋅ (f_i^{(l)}(x')) \\right] = \\mathbb{E} \\left[ \\left( ∑_j w_{i,j}^{(l)}g_j^{(l-1)}(x) + b_i^{(l)} \\right) \\left( ∑_j w_{i,j}^{(l)}g_j^{(l-1)}(x') + b_i^{(l)} \\right) \\right] \\; .\n",
        "$$\n",
        "\n",
        "Multiplying the sums and using linearity produces:\n",
        "* two sums that have zero expectation (since the bias is independent and have zero mean)\n",
        "* one double sum\n",
        "*  $\\mathbb{E}[b_i^2] = \\sigma_b^{(2)}$\n",
        "\n",
        "The double sum is:\n",
        "\n",
        "$$\n",
        "\\mathbb{E} \\left[ \\sum_{k=1} \\sum_{j=1} w_{ik}^{(l)}g_{k}^{l-1}(x) w_{ij}^{(l)}g_{j}^{(l-1)}(x')  \\right] = \\mathbb{E} \\left[ (w_{ii}^{(l)}) ^2 g_{i}^{l-1}(x)g_{j}^{(l-1)}(x')  \\right] = (\\sigma_w ^{(l)})^2 \\mathbb{E} \\left[ g_{i}^{l-1}(x)g_{j}^{(l-1)}(x')  \\right]\n",
        "$$\n",
        "\n",
        "where again we used linearity of expectation, independece of the weights, and zero mean for the weights, in that order.\n",
        "\n",
        "Finally, we find\n",
        "\n",
        "$$\n",
        "\\mu^{l-1} = 0 \\\\\n",
        "K^{l-1}_{i,j} (x, x') = (\\sigma _b ^{(l)}) ^2 + (\\sigma_w ^{(l)})^2 \\mathbb{E} \\left[ g_{i}^{l-1}(x)g_{j}^{(l-1)}(x')  \\right]\n",
        "$$\n",
        "\n",
        "$$\n",
        "\\boldsymbol{F}^{(l)} \\xrightarrow{N_{l-1} \\rightarrow ∞} \\mathcal{N} \\left( \\boldsymbol{0}, K^{l-1}(x, x') \\right) \\, ,\n",
        "$$\n",
        "\n",
        "where we have to remember that in this notation $K^{l-1}$ is the kernel for layer $l$ (as $K^1$ was defined the kernel for layer 2).\n"
      ]
    },
    {
      "cell_type": "markdown",
      "metadata": {
        "id": "ZNzWgsXt2sVo"
      },
      "source": [
        "***\n",
        "\n",
        "### Part 4.2: Analysing the performance of the Gaussian process and a neural network [4 points]"
      ]
    },
    {
      "cell_type": "markdown",
      "metadata": {
        "id": "unW1bYqJ2sVo"
      },
      "source": []
    },
    {
      "cell_type": "code",
      "execution_count": null,
      "metadata": {
        "id": "FppSzjEZ2sVo"
      },
      "outputs": [],
      "source": [
        "# Please use float64 as default dtype for this part of the assignment\n",
        "torch.set_default_dtype(torch.float64)\n",
        "\n",
        "# Another hint: when  computing [ K^L(X,X) + noise^2 Id ]^-1 y and  [ K^L(X,X) + noise^2 Id ]^-1 K^L(X,X*)\n",
        "# You can TRY cholesky solve as it should be p.d. (except case for numerical errors) - maybe you can use try:/except:\n",
        "# You can also try to enforce symmetry in posterior covariance by doing (K + K.t())/2"
      ]
    },
    {
      "cell_type": "markdown",
      "metadata": {
        "id": "LskQ3sGFnxKw"
      },
      "source": [
        "#### Task 0 - Data preprocessing\n",
        "We will use labels 0 and 1 througout the implementation. Then, as the targets are now $\\pm 0.5$, the classification will be done by $y > 0$, where $y$ is the prediction of the GP. We could also use a different threshold than $0$, but I found that this threshold is fair."
      ]
    },
    {
      "cell_type": "code",
      "execution_count": null,
      "metadata": {
        "id": "z_c3V9YH2sVp"
      },
      "outputs": [],
      "source": [
        "class CifarGpDataset(ImageDataset):\n",
        "    def __init__(self, train: bool, normalize: bool):\n",
        "      \"\"\"\n",
        "        Initializes a dataset for Gaussian Processes using the CIFAR dataset.\n",
        "\n",
        "        Args:\n",
        "            train (bool): If True, loads the training dataset; otherwise, loads the testing dataset.\n",
        "            normalize (bool): If True, normalize the data.\n",
        "\n",
        "        Note:\n",
        "            This class is designed for a binary classification task where labels 1 and 2 are selected.\n",
        "      \"\"\"\n",
        "\n",
        "      self.labels = [0, 1]\n",
        "      super().__init__(\"cifar\", train, normalize, 2)\n",
        "\n",
        "    def _create_data(self, raw_targets):\n",
        "      \"\"\"\n",
        "        Filter data to labels 0, 1.  Overriding method.\n",
        "\n",
        "        Args:\n",
        "            raw_targets (torch.Tensor): Raw target values.\n",
        "      \"\"\"\n",
        "\n",
        "      raw_targets = torch.tensor(raw_targets, dtype=torch.float64)\n",
        "      self.data = torch.tensor(self.data, dtype=torch.float64)\n",
        "      self.data = self.data[(raw_targets==1) | (raw_targets == 2), :]\n",
        "\n",
        "\n",
        "    def _create_targets(self, raw_targets, nclasses):\n",
        "      \"\"\"\n",
        "        Filter targets to labels 0, 1 and +- 0.5 values. Overriding method.\n",
        "\n",
        "        Args:\n",
        "            raw_targets (torch.Tensor): Raw target values.\n",
        "            nclasses (int): Number of classes.\n",
        "      \"\"\"\n",
        "\n",
        "      raw_targets = torch.tensor(raw_targets, dtype=torch.float64)\n",
        "      self.targets = raw_targets[(raw_targets==1) | (raw_targets == 2)]\n",
        "      self.targets[self.targets==1] *= 0.5\n",
        "      self.targets[self.targets==2] *= -1/4\n",
        "\n",
        "# Uncomment to test the data and targets filtration\n",
        "# dataset = CifarGpDataset(True, True)\n",
        "# dataset.data.shape[0] == dataset.targets.shape[0]\n",
        "# print(dataset.targets)"
      ]
    },
    {
      "cell_type": "markdown",
      "metadata": {
        "id": "BhsJRqbVnxKw"
      },
      "source": [
        "#### Task 1 - GP Kernel"
      ]
    },
    {
      "cell_type": "code",
      "execution_count": null,
      "metadata": {
        "id": "IKh19SJBnxKw"
      },
      "outputs": [],
      "source": [
        "class ReluKernal:\n",
        "  def __init__(self, L, var_w, var_b):\n",
        "    \"\"\"\n",
        "      Initializes a ReLU Gaussian Process kernel.\n",
        "      The class stores all kernals computed for X1 abd X2, upto layer L.\n",
        "\n",
        "      Args:\n",
        "          L (int): Maximal layer for the kernel.\n",
        "          var_w (torch.Tensor): Variance for the weight.\n",
        "          var_b (torch.Tensor): Variance for the bias.\n",
        "\n",
        "    \"\"\"\n",
        "\n",
        "    self.L = L\n",
        "    self.sigma_b = torch.sqrt(var_b)\n",
        "    self.sigma_w = torch.sqrt(var_w)\n",
        "\n",
        "    self.kernals_11 = {}\n",
        "    self.kernals_22 = {}\n",
        "    self.kernals_12 = {}\n",
        "\n",
        "  def __kernal(self, l, X1, X2, pair=None):\n",
        "    \"\"\"\n",
        "      Internal method for computing the l layer Gaussian Process kernel for\n",
        "      input matrices X1 X2. The computation assumes that all kernals are\n",
        "      computed and stored for layer l-1.\n",
        "\n",
        "      Args:\n",
        "          l (int): layer for the kernel.\n",
        "          X1 (torch.Tensor): Input data matrix for the first set of datapoints.\n",
        "                             of shape M1 x N0.\n",
        "          X2 (torch.Tensor): Input data matrix for the second set of datapoints.\n",
        "                             of shape M2 x N0.\n",
        "          pair (str, optional): Specifies wheter X1 and X2 are the same\n",
        "                                datapoint, and if so, which combination is it.\n",
        "                                Values: \"11\", \"22\", \"12\". Default is None.\n",
        "\n",
        "      Returns:\n",
        "          torch.Tensor: M1 x M2 kernel matrix for layer l.\n",
        "    \"\"\"\n",
        "\n",
        "    sigma_b = self.sigma_b\n",
        "    sigma_w = self.sigma_w\n",
        "\n",
        "    if not l:\n",
        "      N0 = X1.shape[0]\n",
        "      return sigma_b + sigma_w * (X1 @ X2.T)/N0\n",
        "\n",
        "    if pair==\"11\":\n",
        "      k11 = self.kernals_11[l-1]\n",
        "      k22 = k11\n",
        "      k12 = k11\n",
        "\n",
        "    elif pair==\"22\":\n",
        "      k22 = self.kernals_22[l-1]\n",
        "      k11 = k22\n",
        "      k12 = k22\n",
        "\n",
        "    else:\n",
        "      k11 = self.kernals_11[l-1]\n",
        "      k22 = self.kernals_22[l-1]\n",
        "      k12 = self.kernals_12[l-1]\n",
        "\n",
        "    diag1 = torch.diagonal(k11, 0) # All we need for computation is the diagonal!\n",
        "    diag2 = torch.diagonal(k22, 0)\n",
        "\n",
        "    k_mult= diag1.unsqueeze(1) @ diag2.unsqueeze(0) # Making two matricies from the diagonals and multiply to get (M1 x M2) matrix.\n",
        "    clipped_arg = torch.clamp(k12 / torch.sqrt( k_mult ), -1., 1.) # Avoiding nan values\n",
        "    theta = torch.acos(clipped_arg)\n",
        "\n",
        "    res = sigma_b + sigma_w/(2*torch.pi) * torch.sqrt(k_mult) * (torch.sin(theta) + (torch.pi - theta)*torch.cos(theta))\n",
        "    return res\n",
        "\n",
        "  def __call__(self, X1, X2):\n",
        "    \"\"\"\n",
        "      Compute the Gaussian Process kernel for all layers upto L.\n",
        "\n",
        "      Args:\n",
        "          X1 (torch.Tensor): Input data matrix for the first set of datapoints.\n",
        "                             Shape M1 x N0, where N0 is length of datapoint.\n",
        "          X2 (torch.Tensor): Input data matrix for the second set of datapoints.\n",
        "                             Shape M2 x N0.\n",
        "\n",
        "      Returns:\n",
        "          torch.Tensor: M1 x M2 kernel matrix for layer L.\n",
        "\n",
        "    \"\"\"\n",
        "\n",
        "    if X1.shape[1] != X2.shape[1]:\n",
        "      raise ValueError(\"X1 and X2 must have same dimension along axis 1\")\n",
        "\n",
        "    for l in range(self.L):\n",
        "      self.kernals_11[l] = self.__kernal(l, X1, X1, pair=\"11\")\n",
        "      self.kernals_22[l] = self.__kernal(l, X2, X2, pair=\"22\")\n",
        "      self.kernals_12[l] = self.__kernal(l, X1, X2)\n",
        "\n",
        "      # print(self.kernals_12[l].shape)\n",
        "\n",
        "    return self.__kernal(self.L, X1, X2)\n",
        "\n",
        "#test1\n",
        "# my_kernal = GpKernal(5, torch.tensor(0.1), torch.tensor(0.1))\n",
        "# X1 = 50*torch.randn((5, 10))\n",
        "# X2 = torch.randn((5, 10))\n",
        "# for i in range(5):\n",
        "#   print(my_kernal(X1, X2))\n",
        "\n",
        "# test2\n",
        "# my_kernal = GpKernal(9, torch.tensor(0.1), torch.tensor(0.1))\n",
        "# X1 = 50*torch.randn((5, 10))\n",
        "# X2 = torch.randn((7, 10))\n",
        "# a = my_kernal(X1, X2)\n",
        "# print(a, a.dtype)"
      ]
    },
    {
      "cell_type": "markdown",
      "metadata": {
        "id": "EQ7K1I56nxKx"
      },
      "source": [
        "#### Task 2 - Posterior Mean and Cov\n",
        "Note - instead of method I implemented here a class. that creates for itself the test and train data."
      ]
    },
    {
      "cell_type": "code",
      "execution_count": null,
      "metadata": {
        "id": "qpHFCdGgnxKx"
      },
      "outputs": [],
      "source": [
        "class NNGP:\n",
        "    def __init__(self, var_b, var_w, sigma, L, test_samples=1000, train_samples=1000):\n",
        "        \"\"\"\n",
        "          Initializes a Gaussian Process model for CIFAR data.\n",
        "\n",
        "          Args:\n",
        "              var_b (torch.Tensor): Variance for the bias.\n",
        "              var_w (torch.Tensor): Variance for the weight.\n",
        "              sigma (float): Standard deviation.\n",
        "              L (int): Maximal layer of GP.\n",
        "              test_samples (int, optional): Number of samples for testing. Default is 1000.\n",
        "              train_samples (int, optional): Number of samples for training. Default is 1000.\n",
        "        \"\"\"\n",
        "\n",
        "        self.var_b = var_b\n",
        "        self.var_w = var_w\n",
        "        self.sigma = sigma\n",
        "        self.L = L\n",
        "\n",
        "        self.k = ReluKernal(L, var_w, var_b)\n",
        "\n",
        "        train_set = CifarGpDataset(True, True)      # train set\n",
        "        test_set = CifarGpDataset(False, True)      # test points\n",
        "\n",
        "        self.X, self.y = train_set.data[:train_samples], train_set.targets[:train_samples] # Truncate data\n",
        "        self.x_star, self.targets = test_set.data[:test_samples], test_set.targets[:test_samples]\n",
        "\n",
        "        self.X = torch.flatten(self.X, start_dim=1) # Flatten input images\n",
        "        self.x_star = torch.flatten(self.x_star, start_dim=1)\n",
        "\n",
        "    def compute_posterior(self):\n",
        "        \"\"\"\n",
        "          Compute the posterior mean and variance for the Gaussian Process model.\n",
        "\n",
        "          Returns:\n",
        "              tuple: Tuple containing posterior mean and variance.\n",
        "        \"\"\"\n",
        "\n",
        "        k_xs_x = self.k(self.x_star, self.X)\n",
        "        k_x_xs = k_xs_x.T\n",
        "        k_xs_xs = self.k(self.x_star, self.x_star)\n",
        "        k_x_x = self.k(self.X, self.X)\n",
        "        cov_x_x = k_x_x + self.sigma**2 * torch.eye(self.X.shape[0]).to(device=device)\n",
        "\n",
        "        cov_inverse_y = torch.linalg.solve(cov_x_x, self.y)\n",
        "        cov_inverse_k = torch.linalg.solve(cov_x_x, k_x_xs)\n",
        "\n",
        "        posterior_mean = torch.matmul(k_xs_x, cov_inverse_y)\n",
        "        posterior_var = k_xs_xs - torch.matmul(k_xs_x, cov_inverse_k)\n",
        "\n",
        "        return posterior_mean, posterior_var\n",
        "\n",
        "    def predict(self, size, contract=False):\n",
        "        \"\"\"\n",
        "        Generate predictions (i.e f^*) using the Gaussian Process model.\n",
        "        This method us currently unused.\n",
        "\n",
        "        Args:\n",
        "            size (int): Number of samples to generate.\n",
        "            contract (bool, optional): If True, contract the predictions to binary values. Default is False.\n",
        "\n",
        "        Returns:\n",
        "            tuple: Tuple containing predictions and true targets (if contract is True).\n",
        "        \"\"\"\n",
        "\n",
        "        mean, var = self._compute_posterior()\n",
        "        y_star = torch.distributions.MultivariateNormal(mean, var).sample((size,))\n",
        "\n",
        "        if contract:\n",
        "          y_star, targets = (y_star > 0).to(dtype=torch.float64), (self.targets > 0).to(dtype=torch.float64)\n",
        "          return torch.mean(y_star, 0), targets # fix sum shit here\n",
        "\n",
        "        return (y_star > 0).to(dtype=torch.float64), (self.targets > 0).to(dtype=torch.float64)\n"
      ]
    },
    {
      "cell_type": "markdown",
      "metadata": {
        "id": "WdJhV1wCEXwd"
      },
      "source": [
        "#### Task 3 - NNGP analysis\n",
        "To find the optimal hyperparameters I implemented a Grid Search (in the appendix). The hyperparameters chosen are the ones with minimum error for $L=6$ in the appendix. Those are:\n",
        "\n",
        "| Hyperparameter | Fixed Value |\n",
        "|---|---|\n",
        "| `var_b` | $10^{-5}$ |\n",
        "| `var_w` | $3$ |\n",
        "| `sigma` | $0.01$ |\n",
        "\n"
      ]
    },
    {
      "cell_type": "code",
      "execution_count": null,
      "metadata": {
        "colab": {
          "base_uri": "https://localhost:8080/",
          "height": 356
        },
        "id": "t1mJFH9GnxKx",
        "outputId": "02055466-332c-4d37-ca08-97195b9b7a28"
      },
      "outputs": [
        {
          "ename": "KeyboardInterrupt",
          "evalue": "",
          "output_type": "error",
          "traceback": [
            "\u001b[0;31m---------------------------------------------------------------------------\u001b[0m",
            "\u001b[0;31mKeyboardInterrupt\u001b[0m                         Traceback (most recent call last)",
            "\u001b[0;32m<ipython-input-21-1f668703b43e>\u001b[0m in \u001b[0;36m<cell line: 15>\u001b[0;34m()\u001b[0m\n\u001b[1;32m     15\u001b[0m \u001b[0;32mfor\u001b[0m \u001b[0mi\u001b[0m \u001b[0;32min\u001b[0m \u001b[0mlayers\u001b[0m\u001b[0;34m:\u001b[0m\u001b[0;34m\u001b[0m\u001b[0;34m\u001b[0m\u001b[0m\n\u001b[1;32m     16\u001b[0m   \u001b[0mgp_hyperparams\u001b[0m\u001b[0;34m[\u001b[0m\u001b[0;34m\"L\"\u001b[0m\u001b[0;34m]\u001b[0m \u001b[0;34m=\u001b[0m \u001b[0mi\u001b[0m\u001b[0;34m\u001b[0m\u001b[0;34m\u001b[0m\u001b[0m\n\u001b[0;32m---> 17\u001b[0;31m   \u001b[0mgp\u001b[0m \u001b[0;34m=\u001b[0m \u001b[0mNNGP\u001b[0m\u001b[0;34m(\u001b[0m\u001b[0;34m**\u001b[0m\u001b[0mgp_hyperparams\u001b[0m\u001b[0;34m)\u001b[0m\u001b[0;34m\u001b[0m\u001b[0;34m\u001b[0m\u001b[0m\n\u001b[0m\u001b[1;32m     18\u001b[0m \u001b[0;34m\u001b[0m\u001b[0m\n\u001b[1;32m     19\u001b[0m   \u001b[0mmean\u001b[0m\u001b[0;34m,\u001b[0m \u001b[0mvar\u001b[0m \u001b[0;34m=\u001b[0m \u001b[0mgp\u001b[0m\u001b[0;34m.\u001b[0m\u001b[0mcompute_posterior\u001b[0m\u001b[0;34m(\u001b[0m\u001b[0;34m)\u001b[0m\u001b[0;34m\u001b[0m\u001b[0;34m\u001b[0m\u001b[0m\n",
            "\u001b[0;32m<ipython-input-20-1e79928f47a3>\u001b[0m in \u001b[0;36m__init__\u001b[0;34m(self, var_b, var_w, sigma, L, test_samples, train_samples)\u001b[0m\n\u001b[1;32m     20\u001b[0m         \u001b[0mself\u001b[0m\u001b[0;34m.\u001b[0m\u001b[0mk\u001b[0m \u001b[0;34m=\u001b[0m \u001b[0mReluKernal\u001b[0m\u001b[0;34m(\u001b[0m\u001b[0mL\u001b[0m\u001b[0;34m,\u001b[0m \u001b[0mvar_w\u001b[0m\u001b[0;34m,\u001b[0m \u001b[0mvar_b\u001b[0m\u001b[0;34m)\u001b[0m\u001b[0;34m\u001b[0m\u001b[0;34m\u001b[0m\u001b[0m\n\u001b[1;32m     21\u001b[0m \u001b[0;34m\u001b[0m\u001b[0m\n\u001b[0;32m---> 22\u001b[0;31m         \u001b[0mtrain_set\u001b[0m \u001b[0;34m=\u001b[0m \u001b[0mCifarGpDataset\u001b[0m\u001b[0;34m(\u001b[0m\u001b[0;32mTrue\u001b[0m\u001b[0;34m,\u001b[0m \u001b[0;32mTrue\u001b[0m\u001b[0;34m)\u001b[0m      \u001b[0;31m# train set\u001b[0m\u001b[0;34m\u001b[0m\u001b[0;34m\u001b[0m\u001b[0m\n\u001b[0m\u001b[1;32m     23\u001b[0m         \u001b[0mtest_set\u001b[0m \u001b[0;34m=\u001b[0m \u001b[0mCifarGpDataset\u001b[0m\u001b[0;34m(\u001b[0m\u001b[0;32mFalse\u001b[0m\u001b[0;34m,\u001b[0m \u001b[0;32mTrue\u001b[0m\u001b[0;34m)\u001b[0m      \u001b[0;31m# test points\u001b[0m\u001b[0;34m\u001b[0m\u001b[0;34m\u001b[0m\u001b[0m\n\u001b[1;32m     24\u001b[0m \u001b[0;34m\u001b[0m\u001b[0m\n",
            "\u001b[0;32m<ipython-input-13-1326c7eeed90>\u001b[0m in \u001b[0;36m__init__\u001b[0;34m(self, train, normalize)\u001b[0m\n\u001b[1;32m     13\u001b[0m \u001b[0;34m\u001b[0m\u001b[0m\n\u001b[1;32m     14\u001b[0m       \u001b[0mself\u001b[0m\u001b[0;34m.\u001b[0m\u001b[0mlabels\u001b[0m \u001b[0;34m=\u001b[0m \u001b[0;34m[\u001b[0m\u001b[0;36m0\u001b[0m\u001b[0;34m,\u001b[0m \u001b[0;36m1\u001b[0m\u001b[0;34m]\u001b[0m\u001b[0;34m\u001b[0m\u001b[0;34m\u001b[0m\u001b[0m\n\u001b[0;32m---> 15\u001b[0;31m       \u001b[0msuper\u001b[0m\u001b[0;34m(\u001b[0m\u001b[0;34m)\u001b[0m\u001b[0;34m.\u001b[0m\u001b[0m__init__\u001b[0m\u001b[0;34m(\u001b[0m\u001b[0;34m\"cifar\"\u001b[0m\u001b[0;34m,\u001b[0m \u001b[0mtrain\u001b[0m\u001b[0;34m,\u001b[0m \u001b[0mnormalize\u001b[0m\u001b[0;34m,\u001b[0m \u001b[0;36m2\u001b[0m\u001b[0;34m)\u001b[0m\u001b[0;34m\u001b[0m\u001b[0;34m\u001b[0m\u001b[0m\n\u001b[0m\u001b[1;32m     16\u001b[0m \u001b[0;34m\u001b[0m\u001b[0m\n\u001b[1;32m     17\u001b[0m     \u001b[0;32mdef\u001b[0m \u001b[0m_create_data\u001b[0m\u001b[0;34m(\u001b[0m\u001b[0mself\u001b[0m\u001b[0;34m,\u001b[0m \u001b[0mraw_targets\u001b[0m\u001b[0;34m)\u001b[0m\u001b[0;34m:\u001b[0m\u001b[0;34m\u001b[0m\u001b[0;34m\u001b[0m\u001b[0m\n",
            "\u001b[0;32m<ipython-input-5-c04c0ef3e4a6>\u001b[0m in \u001b[0;36m__init__\u001b[0;34m(self, dataset_type, train, normalize, nclasses)\u001b[0m\n\u001b[1;32m     46\u001b[0m \u001b[0;34m\u001b[0m\u001b[0m\n\u001b[1;32m     47\u001b[0m         \u001b[0;32mif\u001b[0m \u001b[0mnormalize\u001b[0m\u001b[0;34m:\u001b[0m\u001b[0;34m\u001b[0m\u001b[0;34m\u001b[0m\u001b[0m\n\u001b[0;32m---> 48\u001b[0;31m             \u001b[0mself\u001b[0m\u001b[0;34m.\u001b[0m\u001b[0mdata\u001b[0m \u001b[0;34m=\u001b[0m \u001b[0mnn\u001b[0m\u001b[0;34m.\u001b[0m\u001b[0mfunctional\u001b[0m\u001b[0;34m.\u001b[0m\u001b[0mnormalize\u001b[0m\u001b[0;34m(\u001b[0m\u001b[0mself\u001b[0m\u001b[0;34m.\u001b[0m\u001b[0mdata\u001b[0m\u001b[0;34m,\u001b[0m \u001b[0mp\u001b[0m\u001b[0;34m=\u001b[0m\u001b[0;36m1\u001b[0m\u001b[0;34m)\u001b[0m\u001b[0;34m\u001b[0m\u001b[0;34m\u001b[0m\u001b[0m\n\u001b[0m\u001b[1;32m     49\u001b[0m \u001b[0;34m\u001b[0m\u001b[0m\n\u001b[1;32m     50\u001b[0m         \u001b[0mself\u001b[0m\u001b[0;34m.\u001b[0m\u001b[0mtargets\u001b[0m \u001b[0;34m=\u001b[0m \u001b[0mself\u001b[0m\u001b[0;34m.\u001b[0m\u001b[0mtargets\u001b[0m\u001b[0;34m.\u001b[0m\u001b[0mto\u001b[0m\u001b[0;34m(\u001b[0m\u001b[0mdevice\u001b[0m\u001b[0;34m=\u001b[0m\u001b[0mdevice\u001b[0m\u001b[0;34m)\u001b[0m\u001b[0;34m\u001b[0m\u001b[0;34m\u001b[0m\u001b[0m\n",
            "\u001b[0;32m/usr/local/lib/python3.10/dist-packages/torch/nn/functional.py\u001b[0m in \u001b[0;36mnormalize\u001b[0;34m(input, p, dim, eps, out)\u001b[0m\n\u001b[1;32m   4717\u001b[0m         \u001b[0;32mreturn\u001b[0m \u001b[0mhandle_torch_function\u001b[0m\u001b[0;34m(\u001b[0m\u001b[0mnormalize\u001b[0m\u001b[0;34m,\u001b[0m \u001b[0;34m(\u001b[0m\u001b[0minput\u001b[0m\u001b[0;34m,\u001b[0m \u001b[0mout\u001b[0m\u001b[0;34m)\u001b[0m\u001b[0;34m,\u001b[0m \u001b[0minput\u001b[0m\u001b[0;34m,\u001b[0m \u001b[0mp\u001b[0m\u001b[0;34m=\u001b[0m\u001b[0mp\u001b[0m\u001b[0;34m,\u001b[0m \u001b[0mdim\u001b[0m\u001b[0;34m=\u001b[0m\u001b[0mdim\u001b[0m\u001b[0;34m,\u001b[0m \u001b[0meps\u001b[0m\u001b[0;34m=\u001b[0m\u001b[0meps\u001b[0m\u001b[0;34m,\u001b[0m \u001b[0mout\u001b[0m\u001b[0;34m=\u001b[0m\u001b[0mout\u001b[0m\u001b[0;34m)\u001b[0m\u001b[0;34m\u001b[0m\u001b[0;34m\u001b[0m\u001b[0m\n\u001b[1;32m   4718\u001b[0m     \u001b[0;32mif\u001b[0m \u001b[0mout\u001b[0m \u001b[0;32mis\u001b[0m \u001b[0;32mNone\u001b[0m\u001b[0;34m:\u001b[0m\u001b[0;34m\u001b[0m\u001b[0;34m\u001b[0m\u001b[0m\n\u001b[0;32m-> 4719\u001b[0;31m         \u001b[0mdenom\u001b[0m \u001b[0;34m=\u001b[0m \u001b[0minput\u001b[0m\u001b[0;34m.\u001b[0m\u001b[0mnorm\u001b[0m\u001b[0;34m(\u001b[0m\u001b[0mp\u001b[0m\u001b[0;34m,\u001b[0m \u001b[0mdim\u001b[0m\u001b[0;34m,\u001b[0m \u001b[0mkeepdim\u001b[0m\u001b[0;34m=\u001b[0m\u001b[0;32mTrue\u001b[0m\u001b[0;34m)\u001b[0m\u001b[0;34m.\u001b[0m\u001b[0mclamp_min\u001b[0m\u001b[0;34m(\u001b[0m\u001b[0meps\u001b[0m\u001b[0;34m)\u001b[0m\u001b[0;34m.\u001b[0m\u001b[0mexpand_as\u001b[0m\u001b[0;34m(\u001b[0m\u001b[0minput\u001b[0m\u001b[0;34m)\u001b[0m\u001b[0;34m\u001b[0m\u001b[0;34m\u001b[0m\u001b[0m\n\u001b[0m\u001b[1;32m   4720\u001b[0m         \u001b[0;32mreturn\u001b[0m \u001b[0minput\u001b[0m \u001b[0;34m/\u001b[0m \u001b[0mdenom\u001b[0m\u001b[0;34m\u001b[0m\u001b[0;34m\u001b[0m\u001b[0m\n\u001b[1;32m   4721\u001b[0m     \u001b[0;32melse\u001b[0m\u001b[0;34m:\u001b[0m\u001b[0;34m\u001b[0m\u001b[0;34m\u001b[0m\u001b[0m\n",
            "\u001b[0;32m/usr/local/lib/python3.10/dist-packages/torch/_tensor.py\u001b[0m in \u001b[0;36mnorm\u001b[0;34m(self, p, dim, keepdim, dtype)\u001b[0m\n\u001b[1;32m    706\u001b[0m                 \u001b[0mTensor\u001b[0m\u001b[0;34m.\u001b[0m\u001b[0mnorm\u001b[0m\u001b[0;34m,\u001b[0m \u001b[0;34m(\u001b[0m\u001b[0mself\u001b[0m\u001b[0;34m,\u001b[0m\u001b[0;34m)\u001b[0m\u001b[0;34m,\u001b[0m \u001b[0mself\u001b[0m\u001b[0;34m,\u001b[0m \u001b[0mp\u001b[0m\u001b[0;34m=\u001b[0m\u001b[0mp\u001b[0m\u001b[0;34m,\u001b[0m \u001b[0mdim\u001b[0m\u001b[0;34m=\u001b[0m\u001b[0mdim\u001b[0m\u001b[0;34m,\u001b[0m \u001b[0mkeepdim\u001b[0m\u001b[0;34m=\u001b[0m\u001b[0mkeepdim\u001b[0m\u001b[0;34m,\u001b[0m \u001b[0mdtype\u001b[0m\u001b[0;34m=\u001b[0m\u001b[0mdtype\u001b[0m\u001b[0;34m\u001b[0m\u001b[0;34m\u001b[0m\u001b[0m\n\u001b[1;32m    707\u001b[0m             )\n\u001b[0;32m--> 708\u001b[0;31m         \u001b[0;32mreturn\u001b[0m \u001b[0mtorch\u001b[0m\u001b[0;34m.\u001b[0m\u001b[0mnorm\u001b[0m\u001b[0;34m(\u001b[0m\u001b[0mself\u001b[0m\u001b[0;34m,\u001b[0m \u001b[0mp\u001b[0m\u001b[0;34m,\u001b[0m \u001b[0mdim\u001b[0m\u001b[0;34m,\u001b[0m \u001b[0mkeepdim\u001b[0m\u001b[0;34m,\u001b[0m \u001b[0mdtype\u001b[0m\u001b[0;34m=\u001b[0m\u001b[0mdtype\u001b[0m\u001b[0;34m)\u001b[0m\u001b[0;34m\u001b[0m\u001b[0;34m\u001b[0m\u001b[0m\n\u001b[0m\u001b[1;32m    709\u001b[0m \u001b[0;34m\u001b[0m\u001b[0m\n\u001b[1;32m    710\u001b[0m     \u001b[0;32mdef\u001b[0m \u001b[0msolve\u001b[0m\u001b[0;34m(\u001b[0m\u001b[0mself\u001b[0m\u001b[0;34m,\u001b[0m \u001b[0mother\u001b[0m\u001b[0;34m)\u001b[0m\u001b[0;34m:\u001b[0m\u001b[0;34m\u001b[0m\u001b[0;34m\u001b[0m\u001b[0m\n",
            "\u001b[0;32m/usr/local/lib/python3.10/dist-packages/torch/functional.py\u001b[0m in \u001b[0;36mnorm\u001b[0;34m(input, p, dim, keepdim, out, dtype)\u001b[0m\n\u001b[1;32m   1609\u001b[0m             \u001b[0m_p\u001b[0m \u001b[0;34m=\u001b[0m \u001b[0;36m2.0\u001b[0m \u001b[0;32mif\u001b[0m \u001b[0mp\u001b[0m \u001b[0;32mis\u001b[0m \u001b[0;32mNone\u001b[0m \u001b[0;32melse\u001b[0m \u001b[0mp\u001b[0m\u001b[0;34m\u001b[0m\u001b[0;34m\u001b[0m\u001b[0m\n\u001b[1;32m   1610\u001b[0m             \u001b[0;32mif\u001b[0m \u001b[0mout\u001b[0m \u001b[0;32mis\u001b[0m \u001b[0;32mNone\u001b[0m\u001b[0;34m:\u001b[0m\u001b[0;34m\u001b[0m\u001b[0;34m\u001b[0m\u001b[0m\n\u001b[0;32m-> 1611\u001b[0;31m                 \u001b[0;32mreturn\u001b[0m \u001b[0mtorch\u001b[0m\u001b[0;34m.\u001b[0m\u001b[0mlinalg\u001b[0m\u001b[0;34m.\u001b[0m\u001b[0mvector_norm\u001b[0m\u001b[0;34m(\u001b[0m\u001b[0minput\u001b[0m\u001b[0;34m,\u001b[0m \u001b[0m_p\u001b[0m\u001b[0;34m,\u001b[0m \u001b[0m_dim\u001b[0m\u001b[0;34m,\u001b[0m \u001b[0mkeepdim\u001b[0m\u001b[0;34m,\u001b[0m \u001b[0mdtype\u001b[0m\u001b[0;34m=\u001b[0m\u001b[0mdtype\u001b[0m\u001b[0;34m)\u001b[0m\u001b[0;34m\u001b[0m\u001b[0;34m\u001b[0m\u001b[0m\n\u001b[0m\u001b[1;32m   1612\u001b[0m             \u001b[0;32melse\u001b[0m\u001b[0;34m:\u001b[0m\u001b[0;34m\u001b[0m\u001b[0;34m\u001b[0m\u001b[0m\n\u001b[1;32m   1613\u001b[0m                 \u001b[0;32mreturn\u001b[0m \u001b[0mtorch\u001b[0m\u001b[0;34m.\u001b[0m\u001b[0mlinalg\u001b[0m\u001b[0;34m.\u001b[0m\u001b[0mvector_norm\u001b[0m\u001b[0;34m(\u001b[0m\u001b[0minput\u001b[0m\u001b[0;34m,\u001b[0m \u001b[0m_p\u001b[0m\u001b[0;34m,\u001b[0m \u001b[0m_dim\u001b[0m\u001b[0;34m,\u001b[0m \u001b[0mkeepdim\u001b[0m\u001b[0;34m,\u001b[0m \u001b[0mdtype\u001b[0m\u001b[0;34m=\u001b[0m\u001b[0mdtype\u001b[0m\u001b[0;34m,\u001b[0m \u001b[0mout\u001b[0m\u001b[0;34m=\u001b[0m\u001b[0mout\u001b[0m\u001b[0;34m)\u001b[0m\u001b[0;34m\u001b[0m\u001b[0;34m\u001b[0m\u001b[0m\n",
            "\u001b[0;31mKeyboardInterrupt\u001b[0m: "
          ]
        }
      ],
      "source": [
        "N = 1000\n",
        "targets = (CifarGpDataset(False, True).targets[:N] > 0).to(dtype=torch.float64)\n",
        "\n",
        "\n",
        "gp_hyperparams = {\n",
        "    \"var_b\": torch.tensor(1e-05),\n",
        "    \"var_w\": torch.tensor(3),\n",
        "    \"sigma\": torch.tensor(0.01),\n",
        "    \"test_samples\": N,\n",
        "    \"train_samples\": N\n",
        "}\n",
        "\n",
        "layers = range(0, 11)\n",
        "accuracy = []\n",
        "for i in layers:\n",
        "  gp_hyperparams[\"L\"] = i\n",
        "  gp = NNGP(**gp_hyperparams)\n",
        "\n",
        "  mean, var = gp.compute_posterior()\n",
        "  predict = (mean > 0).to(dtype=torch.float64)\n",
        "\n",
        "  err = torch.abs(predict - targets).sum()/N\n",
        "  print(f\"Layers: {i} |  Error: {err.cpu().numpy()}\")\n",
        "\n",
        "  accuracy.append(1 - err)\n"
      ]
    },
    {
      "cell_type": "code",
      "execution_count": null,
      "metadata": {
        "colab": {
          "base_uri": "https://localhost:8080/",
          "height": 489
        },
        "id": "Cx09jjwpnxKx",
        "outputId": "93d39365-36e9-4660-d3ef-454299435e7f"
      },
      "outputs": [
        {
          "data": {
            "text/plain": [
              "Text(0.5, 1.0, 'NNGP Accuracy over layers - Labels [0,1]')"
            ]
          },
          "execution_count": 19,
          "metadata": {},
          "output_type": "execute_result"
        },
        {
          "data": {
            "image/png": "[encoded data removed]",
            "text/plain": [
              "<Figure size 640x480 with 1 Axes>"
            ]
          },
          "metadata": {},
          "output_type": "display_data"
        }
      ],
      "source": [
        "accuracy = [float(i) for i in accuracy]\n",
        "plt.plot(layers, accuracy)\n",
        "plt.grid()\n",
        "plt.xlabel(\"Layers\")\n",
        "plt.ylabel(\"Accuracy\")\n",
        "plt.title(\"NNGP Accuracy over layers - Labels [0,1]\")"
      ]
    },
    {
      "cell_type": "markdown",
      "metadata": {
        "id": "FVptCbVWHLJI"
      },
      "source": [
        "##### Discussion -NNGP\n",
        "From the graph we can see that as we increase the layers, we get better accueracy up to a certain plateau. In this case, the plateau hits at around $L=6$. After that, there are minimal changes in the accueracy. The maximal accueracy is at $L=8$, and we see a slight decrease afterwards.\n",
        "\n",
        "Also, from (a lot) of trial and error, I had noticed that there are sets of hyperparameters that give accuracy that is no better than change. Also, in most sets of hyperparameters the accuracy decreases after a maximum is reached at some level $L$. I didn't do enough experimentation to affirm that this is the case for all hyper\n",
        "aparameters and thus a property of ReLU NNGP. In any case, when the effect does appear, we have a strong analogy to overfitting in DNN. The model learns the test data instead of the of the general effect, and thus deeper models perform worse on the test data.\n",
        "\n",
        "It is also interesting to note that the hyperparameters were optimised on NNGP with $L=6$, and that is where the plateau seems to start. This too may be a general effect that might be interesting to research."
      ]
    },
    {
      "cell_type": "markdown",
      "metadata": {
        "id": "9_4sZNwwJ3oO"
      },
      "source": [
        "#### Task 3 - Uncertainty\n",
        "\n"
      ]
    },
    {
      "cell_type": "code",
      "execution_count": null,
      "metadata": {
        "id": "AcBIIK_XKB6t"
      },
      "outputs": [],
      "source": [
        "  gp_hyperparams[\"L\"] = 7\n",
        "  gp = NNGP(**gp_hyperparams)\n",
        "  mean, covariance = gp.compute_posterior()"
      ]
    },
    {
      "cell_type": "code",
      "execution_count": null,
      "metadata": {
        "colab": {
          "base_uri": "https://localhost:8080/"
        },
        "id": "PfQh5focKYGu",
        "outputId": "c5e549dd-a8b5-48b6-925a-b4236140e054"
      },
      "outputs": [
        {
          "name": "stdout",
          "output_type": "stream",
          "text": [
            "tensor([ 20, 537]) tensor([898, 898])\n"
          ]
        }
      ],
      "source": [
        "covariance = torch.abs(covariance) # Numerical errors might make some values negative\n",
        "max_val = torch.max(covariance)\n",
        "max_index = (covariance == max_val).to(dtype=torch.float64).nonzero()[0]\n",
        "\n",
        "min_val = torch.min(covariance)\n",
        "min_index = (covariance == min_val).to(dtype=torch.float64).nonzero()[0]\n",
        "\n",
        "print(min_index, max_index)"
      ]
    },
    {
      "cell_type": "markdown",
      "metadata": {
        "id": "ZfR8XNrHWnNL"
      },
      "source": [
        "Lowest variance images (the ones that are most different):"
      ]
    },
    {
      "cell_type": "code",
      "execution_count": null,
      "metadata": {
        "colab": {
          "base_uri": "https://localhost:8080/",
          "height": 323
        },
        "id": "3K5EmyQyO60v",
        "outputId": "68b380ce-9b01-4321-c866-b70ac5b48bf1"
      },
      "outputs": [
        {
          "name": "stdout",
          "output_type": "stream",
          "text": [
            "(32, 32, 3) (32, 32, 3)\n"
          ]
        },
        {
          "data": {
            "text/plain": [
              "<matplotlib.image.AxesImage at 0x7c3942ae9b70>"
            ]
          },
          "execution_count": 119,
          "metadata": {},
          "output_type": "execute_result"
        },
        {
          "data": {
            "image/png": "[encoded data removed]",
            "text/plain": [
              "<Figure size 640x480 with 2 Axes>"
            ]
          },
          "metadata": {},
          "output_type": "display_data"
        }
      ],
      "source": [
        "img_data = CifarGpDataset(False, False).data\n",
        "\n",
        "myimg1 = np.array(img_data[min_index[0]].cpu().numpy(), int)\n",
        "myimg2 = np.array(img_data[min_index[1]].cpu().numpy(), int)\n",
        "img_data[min_index[0]].shape\n",
        "print(myimg.shape, test_img.shape)\n",
        "\n",
        "fig, axes = plt.subplots(1, 2)\n",
        "ax1 = axes[0]\n",
        "ax2 = axes[1]\n",
        "\n",
        "ax1.imshow(myimg1)\n",
        "ax2.imshow(myimg2)"
      ]
    },
    {
      "cell_type": "markdown",
      "metadata": {
        "id": "IzCsP7GmWYlW"
      },
      "source": [
        "Highest variance images (the ones that are most similar):"
      ]
    },
    {
      "cell_type": "code",
      "execution_count": null,
      "metadata": {
        "colab": {
          "base_uri": "https://localhost:8080/",
          "height": 305
        },
        "id": "b2PsqB_6UQut",
        "outputId": "44755915-70c9-4b64-ea8e-510128df2bb4"
      },
      "outputs": [
        {
          "data": {
            "text/plain": [
              "<matplotlib.image.AxesImage at 0x7c3942961ea0>"
            ]
          },
          "execution_count": 120,
          "metadata": {},
          "output_type": "execute_result"
        },
        {
          "data": {
            "image/png": "[encoded data removed]",
            "text/plain": [
              "<Figure size 640x480 with 2 Axes>"
            ]
          },
          "metadata": {},
          "output_type": "display_data"
        }
      ],
      "source": [
        "img_data = CifarGpDataset(False, False).data\n",
        "\n",
        "myimg1 = np.array(img_data[max_index[0]].cpu().numpy(), int)\n",
        "myimg2 = np.array(img_data[max_index[1]].cpu().numpy(), int)\n",
        "\n",
        "fig, axes = plt.subplots(1, 2)\n",
        "ax1 = axes[0]\n",
        "ax2 = axes[1]\n",
        "\n",
        "ax1.imshow(myimg1)\n",
        "ax2.imshow(myimg2)"
      ]
    },
    {
      "cell_type": "markdown",
      "metadata": {
        "id": "11GQiYJQWvt5"
      },
      "source": [
        "#### Task 5"
      ]
    },
    {
      "cell_type": "code",
      "execution_count": 126,
      "metadata": {
        "colab": {
          "base_uri": "https://localhost:8080/"
        },
        "id": "1NFdCIjfXEV2",
        "outputId": "5947cb0c-80f7-4416-c195-64061cd78a33"
      },
      "outputs": [
        {
          "name": "stdout",
          "output_type": "stream",
          "text": [
            "         475 function calls in 4.386 seconds\n",
            "\n",
            "   Ordered by: standard name\n",
            "\n",
            "   ncalls  tottime  percall  cumtime  percall filename:lineno(function)\n",
            "       39    2.543    0.065    3.231    0.083 <ipython-input-52-d94c71dcf15f>:22(__kernal)\n",
            "        3    0.001    0.000    3.233    1.078 <ipython-input-52-d94c71dcf15f>:74(__call__)\n",
            "        1    0.011    0.011    4.386    4.386 <ipython-input-53-1e79928f47a3>:31(compute_posterior)\n",
            "        1    0.000    0.000    4.386    4.386 <string>:1(<module>)\n",
            "       31    0.000    0.000    0.057    0.002 _tensor.py:34(wrapped)\n",
            "       30    0.000    0.000    0.057    0.002 _tensor.py:907(__rsub__)\n",
            "        1    0.000    0.000    4.386    4.386 {built-in method builtins.exec}\n",
            "       31    0.000    0.000    0.000    0.000 {built-in method torch._C._has_torch_function}\n",
            "        2    0.912    0.456    0.912    0.456 {built-in method torch._C._linalg.linalg_solve}\n",
            "       30    0.131    0.004    0.131    0.004 {built-in method torch.acos}\n",
            "       30    0.055    0.002    0.055    0.002 {built-in method torch.clamp}\n",
            "       30    0.145    0.005    0.145    0.005 {built-in method torch.cos}\n",
            "       60    0.002    0.000    0.002    0.000 {built-in method torch.diagonal}\n",
            "        1    0.001    0.001    0.001    0.001 {built-in method torch.eye}\n",
            "        2    0.228    0.114    0.228    0.114 {built-in method torch.matmul}\n",
            "       30    0.056    0.002    0.056    0.002 {built-in method torch.rsub}\n",
            "       30    0.145    0.005    0.145    0.005 {built-in method torch.sin}\n",
            "       60    0.152    0.003    0.152    0.003 {built-in method torch.sqrt}\n",
            "        1    0.000    0.000    0.000    0.000 {method 'disable' of '_lsprof.Profiler' objects}\n",
            "        1    0.000    0.000    0.000    0.000 {method 'pow' of 'torch._C._TensorBase' objects}\n",
            "        1    0.000    0.000    0.000    0.000 {method 'to' of 'torch._C._TensorBase' objects}\n",
            "       60    0.001    0.000    0.001    0.000 {method 'unsqueeze' of 'torch._C._TensorBase' objects}\n",
            "\n",
            "\n"
          ]
        }
      ],
      "source": [
        "import cProfile\n",
        "gp_hyperparams[\"L\"] = 4\n",
        "gp_hyperparams['test_samples'] = 1000\n",
        "gp_hyperparams['train_samples'] = 1000\n",
        "gp = NNGP(**gp_hyperparams)\n",
        "cProfile.run('gp.compute_posterior()')"
      ]
    },
    {
      "cell_type": "code",
      "execution_count": 127,
      "metadata": {
        "colab": {
          "base_uri": "https://localhost:8080/"
        },
        "id": "-d4QD91XX1vn",
        "outputId": "95a652e7-ccbb-48d5-c7e5-719e4971d615"
      },
      "outputs": [
        {
          "name": "stdout",
          "output_type": "stream",
          "text": [
            "         475 function calls in 35.147 seconds\n",
            "\n",
            "   Ordered by: standard name\n",
            "\n",
            "   ncalls  tottime  percall  cumtime  percall filename:lineno(function)\n",
            "       39   20.952    0.537   30.511    0.782 <ipython-input-52-d94c71dcf15f>:22(__kernal)\n",
            "        3    0.251    0.084   30.762   10.254 <ipython-input-52-d94c71dcf15f>:74(__call__)\n",
            "        1    0.048    0.048   35.131   35.131 <ipython-input-53-1e79928f47a3>:31(compute_posterior)\n",
            "        1    0.017    0.017   35.147   35.147 <string>:1(<module>)\n",
            "       31    0.000    0.000    1.261    0.041 _tensor.py:34(wrapped)\n",
            "       30    0.000    0.000    1.261    0.042 _tensor.py:907(__rsub__)\n",
            "        1    0.000    0.000   35.147   35.147 {built-in method builtins.exec}\n",
            "       31    0.000    0.000    0.000    0.000 {built-in method torch._C._has_torch_function}\n",
            "        2    2.878    1.439    2.878    1.439 {built-in method torch._C._linalg.linalg_solve}\n",
            "       30    1.372    0.046    1.372    0.046 {built-in method torch.acos}\n",
            "       30    0.845    0.028    0.845    0.028 {built-in method torch.clamp}\n",
            "       30    2.084    0.069    2.084    0.069 {built-in method torch.cos}\n",
            "       60    0.002    0.000    0.002    0.000 {built-in method torch.diagonal}\n",
            "        1    0.009    0.009    0.009    0.009 {built-in method torch.eye}\n",
            "        2    1.433    0.717    1.433    0.717 {built-in method torch.matmul}\n",
            "       30    1.261    0.042    1.261    0.042 {built-in method torch.rsub}\n",
            "       30    1.577    0.053    1.577    0.053 {built-in method torch.sin}\n",
            "       60    2.417    0.040    2.417    0.040 {built-in method torch.sqrt}\n",
            "        1    0.000    0.000    0.000    0.000 {method 'disable' of '_lsprof.Profiler' objects}\n",
            "        1    0.000    0.000    0.000    0.000 {method 'pow' of 'torch._C._TensorBase' objects}\n",
            "        1    0.000    0.000    0.000    0.000 {method 'to' of 'torch._C._TensorBase' objects}\n",
            "       60    0.001    0.000    0.001    0.000 {method 'unsqueeze' of 'torch._C._TensorBase' objects}\n",
            "\n",
            "\n"
          ]
        }
      ],
      "source": [
        "import cProfile\n",
        "gp_hyperparams[\"L\"] = 4\n",
        "gp_hyperparams['test_samples'] = 3000\n",
        "gp_hyperparams['train_samples'] = 3000\n",
        "gp = NNGP(**gp_hyperparams)\n",
        "cProfile.run('gp.compute_posterior()')"
      ]
    },
    {
      "cell_type": "markdown",
      "metadata": {
        "id": "dFTeZrnFYZDy"
      },
      "source": [
        "##### Discussion\n",
        "Note - computation values on CPU.\n",
        "\n",
        "Consider the `tottime` of the `__kernal` and `torch._C._linalg.linalg_solve` methods, which are by far the biggest:\n",
        "\n",
        "|size | Method | `tottime` |\n",
        "| --- | --- | --- |\n",
        "| 1000 | `__kernal` | 2.543 |\n",
        "| 3000 | `__kernal` | 20.952 |\n",
        "| 1000 | `torch._C._linalg.linalg_solve` | 0.912 |\n",
        "| 3000 | `torch._C._linalg.linalg_solve` | 2.878 |\n",
        "\n",
        "The increase in time for the `kernal` computation between the test sizes is\n",
        "$$\n",
        "\\frac{20.952}{2.543}=8.24\n",
        "$$ .\n",
        "\n",
        "The increase in time for the linalg solve method is:\n",
        "$$\n",
        "\\frac{2.878}{0.912}=3.155\n",
        "$$\n",
        "\n",
        "From this analysis, it seems that the kernel computation takes more time (i.e. the matrix multiplication in it and more).\n",
        "\n",
        "So in my implementation, the kernel computation takes the most amount of time. With that being said, I belive that a more efficient kernel implementation is possible (for example writing it all in C like pytorch and numpy), but a more efficient matrix inversion is not. Therefore, in the best possible implementation, the matrix inversion would probably be the biggest time drain."
      ]
    },
    {
      "cell_type": "markdown",
      "metadata": {
        "id": "7Xw7Lk67nxKx"
      },
      "source": [
        "## Refrences\n",
        "\n",
        "[Matthews et al., 2018] Matthews, A. G. d. G., Rowland, M., Hron, J., Turner,\n",
        "R. E., and Ghahramani, Z. (2018). Gaussian process behaviour in wide deep\n",
        "neural networks. arXiv preprint arXiv:1804.11271.\n",
        "\n",
        "[Lee et al., 2017] Lee, J., Bahri, Y., Novak, R., Schoenholz, S. S., Pennington, J.,\n",
        "and Sohl-Dickstein, J. (2017). Deep neural networks as gaussian processes. arXiv\n",
        "preprint arXiv:1711.00165.\n"
      ]
    },
    {
      "cell_type": "markdown",
      "metadata": {
        "id": "ifUDIJKRFpD1"
      },
      "source": [
        "## Appendix\n",
        "\n",
        "#### NNGP Grid Search\n",
        "I did the grid search for $L=3$ and $L=6$. The results are given below."
      ]
    },
    {
      "cell_type": "code",
      "execution_count": null,
      "metadata": {
        "id": "kjun3JYOnxKx"
      },
      "outputs": [],
      "source": [
        "import itertools\n",
        "\n",
        "N = 1000\n",
        "gp_hyperparams = {\n",
        "    \"L\": 6,\n",
        "    \"test_samples\": N,\n",
        "    \"train_samples\": N\n",
        "}\n",
        "\n",
        "b_range = torch.tensor([ 10**(-i) for i in range(2, 6) ])\n",
        "w_range = torch.linspace(1, 3, 10)\n",
        "sigma_range = torch.tensor([ 10**(-i) for i in range(5) ])\n",
        "\n",
        "targets = (CifarGpDataset(False, True).targets[:N] > 0).to(dtype=torch.float64)\n",
        "\n",
        "res = {}\n",
        "for (b, w, sigma) in itertools.product(b_range, w_range, sigma_range):\n",
        "  gp_hyperparams[\"var_b\"] = b\n",
        "  gp_hyperparams[\"var_w\"] = w\n",
        "  gp_hyperparams[\"sigma\"] = sigma\n",
        "  gp = NNGP(**gp_hyperparams)\n",
        "\n",
        "  mean, var = gp.compute_posterior()\n",
        "  predict = (mean > 0).to(dtype=torch.float64)\n",
        "\n",
        "  err = torch.abs(predict - targets).sum()/N\n",
        "  print(f\"b = {b.cpu().numpy():.06f} | w = {w.cpu().numpy():.02f} | sigma = {sigma.cpu().numpy():.04f} | error={err:.03f}\")\n",
        "\n",
        "  res[(float(b), float(w), float(sigma))] = float(err)"
      ]
    },
    {
      "cell_type": "code",
      "execution_count": null,
      "metadata": {
        "id": "ThBcpoOpnxKx"
      },
      "outputs": [],
      "source": [
        "sorted_keys = sorted(res, key=lambda x: res[x])\n",
        "for i in range(10):\n",
        "  print(sorted_keys[i], res[sorted_keys[i]])"
      ]
    },
    {
      "cell_type": "markdown",
      "metadata": {
        "id": "s1oKtT_PnxKx"
      },
      "source": [
        "Best values L = 3:\n",
        "\n",
        "| $(\\sigma_b ^2, \\sigma_2 ^2, \\sigma)$| Error |\n",
        "|--- | ---|\n",
        "| (1e-05, 2.5, 0.01) | 0.166 |\n",
        "| (0.0001, 2.5, 0.01)  |0.172 |\n",
        "| (1e-05, 1.6, 0.01)  |0.173 |\n",
        "| (1e-05, 1.9, 0.01)  |0.174 |\n",
        "| (1e-05, 2.2, 0.01)  |0.174 |\n",
        "| (1e-05, 1.3, 0.01)  |0.176 |\n",
        "| (0.0001, 2.2, 0.01)  |0.179 |\n",
        "| (0.0001, 1.9, 0.01)  |0.18 |\n",
        "| (0.0001, 1.6, 0.01)  |0.181 |\n",
        "| (1e-05, 1.0, 0.01) | 0.182 |\n",
        "\n",
        "Best values L = 6\n",
        "\n",
        "| $(\\sigma_b ^2, \\sigma_2 ^2, \\sigma)$| Error |\n",
        "|--- | ---|\n",
        "|(1e-05, 3.0, 0.01) | 0.161 |\n",
        "|(1e-05, 2.7777777777777777, 0.01) | 0.162 |\n",
        "|(1e-05, 1.2222222222222223, 0.001) | 0.166 |\n",
        "|(1e-05, 2.5555555555555554, 0.01) | 0.166 |\n",
        "|(0.0001, 3.0, 0.01) | 0.168 |\n",
        "|(1e-05, 1.0, 0.001) | 0.168 |\n",
        "|(1e-05, 1.4444444444444444, 0.001) | 0.168 |\n",
        "|(1e-05, 1.6666666666666665, 0.001) | 0.169 |\n",
        "|(1e-05, 2.111111111111111, 0.001) | 0.169 |\n",
        "|(0.0001, 2.3333333333333335, 0.01) | 0.17|\n",
        "\n",
        "I also liked the following params because they gave a nice graph (but not so much as a good error comared to the others): `(0.0001, 1.28, 0.001)`\n",
        "\n"
      ]
    }
  ],
  "metadata": {
    "accelerator": "GPU",
    "colab": {
      "collapsed_sections": [
        "2YIqCr232sVZ",
        "41dGi5wo2sVb",
        "F1zlbVwj2sVb",
        "Rp_Kr9T32sVb",
        "K4p6Fcyy2sVb",
        "zwuPSbvP2sVc",
        "EyCTq6XN2sVo"
      ],
      "gpuType": "T4",
      "provenance": [],
      "toc_visible": true
    },
    "kernelspec": {
      "display_name": "Python 3",
      "name": "python3"
    },
    "language_info": {
      "codemirror_mode": {
        "name": "ipython",
        "version": 3
      },
      "file_extension": ".py",
      "mimetype": "text/x-python",
      "name": "python",
      "nbconvert_exporter": "python",
      "pygments_lexer": "ipython3",
      "version": "3.11.3"
    }
  },
  "nbformat": 4,
  "nbformat_minor": 0
}
